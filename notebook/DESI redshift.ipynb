{
 "cells": [
  {
   "cell_type": "code",
   "execution_count": 1,
   "metadata": {},
   "outputs": [],
   "source": [
    "import numpy as np\n",
    "import matplotlib\n",
    "matplotlib.use('Agg')\n",
    "import matplotlib.pyplot as plt\n",
    "\n",
    "import sys\n",
    "sys.path.append('../src/')\n",
    "#sys.path.append('/n/des/lee.5922/programs/cosmolike/MG_musigma/')\n",
    "from noshellavg_v2 import *\n",
    "from mock_test import *\n",
    "#from run_error_analysis import *\n",
    "#from plot_chain import plot_single, plot_triple, plot_distributions, plot_summary_bar\n",
    "%matplotlib inline\n",
    "\n",
    "%load_ext autoreload\n",
    "%autoreload 2"
   ]
  },
  {
   "cell_type": "markdown",
   "metadata": {},
   "source": [
    "# Modelling DESI targets redshift distributions"
   ]
  },
  {
   "cell_type": "markdown",
   "metadata": {},
   "source": [
    "## Draw quantities"
   ]
  },
  {
   "cell_type": "markdown",
   "metadata": {},
   "source": [
    "Quantities from http://arxiv.org/abs/1611.00036"
   ]
  },
  {
   "cell_type": "code",
   "execution_count": 65,
   "metadata": {},
   "outputs": [],
   "source": [
    "def construct_galaxy_catalog( Area=14000, z=None, Vs=None, dN_dzdA=None, bD=None ):\n",
    "    \n",
    "    mask = (np.array(dN_dzdA) != 0.)\n",
    "    \n",
    "    Dic_gal = {}\n",
    "    Dic_gal['Area'] = Area\n",
    "    Dic_gal['z'] = np.array(z)\n",
    "    Dic_gal['dz'] = Dic_gal['z'][2] - Dic_gal['z'][1]\n",
    "    Dic_gal['z_low'] = Dic_gal['z']-0.5*Dic_gal['dz']\n",
    "    Dic_gal['Vs'] = np.array(Vs) * 1e+09\n",
    "    Dic_gal['Vs_total'] = np.sum(Dic_gal['Vs'][mask])\n",
    "\n",
    "    Dic_gal['dN_dzdA'] = np.array(dN_dzdA)\n",
    "    Dic_gal['N'] = Dic_gal['dN_dzdA'] * Dic_gal['dz'] * Dic_gal['Area']\n",
    "    Dic_gal['N_total'] = np.sum(Dic_gal['N'])\n",
    "    Dic_gal['nbar'] = Dic_gal['N']/Dic_gal['Vs']\n",
    "    Dic_gal['nbar_total'] = Dic_gal['N_total']/Dic_gal['Vs_total']\n",
    "\n",
    "    Dic_gal['z_eff'] = np.sum( Dic_gal['z']*Dic_gal['N'] )*1./np.sum(Dic_gal['N'])\n",
    "    Dic_gal['bD'] = bD\n",
    "    \n",
    "    Dic_gal['nbar_area']= Dic_gal['N_total']/Dic_gal['Area']\n",
    "    \n",
    "    print ' '\n",
    "    print 'z_eff={:0.2f}'.format(Dic_gal['z_eff'])\n",
    "    print 'redshift: {} < z < {}'.format(Dic_gal['z_low'][mask][0], Dic_gal['z_low'][mask][-1]+Dic_gal['dz'])\n",
    "    print 'Vs_total(Gpc^3)=', Dic_gal['Vs_total']/1e+09\n",
    "    print 'N_total={:0.0f}'.format(Dic_gal['N_total'])\n",
    "    print 'nbar_total(10^-4)={:0.3f}'.format(Dic_gal['nbar_total'] * 1e+04)\n",
    "    print 'nbar_area(/deg^2)={:0.3f}'.format(Dic_gal['nbar_area'])\n",
    "    print 'b(z)={:0.2f} x D(0)/D(z)'.format(bD)\n",
    "\n",
    "    return Dic_gal"
   ]
  },
  {
   "cell_type": "code",
   "execution_count": null,
   "metadata": {},
   "outputs": [],
   "source": [
    "Dic_CMASS_LRG = construct_galaxy_catalog(Area=14000, \n",
    "                                  bD=1.7,\n",
    "                                  z=[0.65,0.75,0.85,0.95],\n",
    "                                  Vs=[02.63,3.15,3.65,4.10],\n",
    "                                  dN_dzdA=[832,986,662,272,51,17])"
   ]
  },
  {
   "cell_type": "code",
   "execution_count": 66,
   "metadata": {},
   "outputs": [
    {
     "name": "stdout",
     "output_type": "stream",
     "text": [
      " \n",
      "z_eff=0.19\n",
      "redshift: 0.0 < z < 0.5\n",
      "Vs_total(Gpc^3)= 3.44\n",
      "N_total=9800000\n",
      "nbar_total(10^-4)=28.488\n",
      "nbar_area(/deg^2)=700.000\n",
      "b(z)=1.34 x D(0)/D(z)\n",
      " \n",
      "z_eff=0.77\n",
      "redshift: 0.6 < z < 1.2\n",
      "Vs_total(Gpc^3)= 22.94\n",
      "N_total=3948000\n",
      "nbar_total(10^-4)=1.721\n",
      "nbar_area(/deg^2)=282.000\n",
      "b(z)=1.70 x D(0)/D(z)\n",
      " \n",
      "z_eff=1.02\n",
      "redshift: 0.6 < z < 1.7\n",
      "Vs_total(Gpc^3)= 51.53\n",
      "N_total=17038000\n",
      "nbar_total(10^-4)=3.306\n",
      "nbar_area(/deg^2)=1217.000\n",
      "b(z)=0.84 x D(0)/D(z)\n"
     ]
    }
   ],
   "source": [
    "Dic_BGS = construct_galaxy_catalog(Area=14000, \n",
    "                                   bD=1.34, \n",
    "                                  z=[0.05, 0.15, 0.25, 0.35, 0.45],\n",
    "                                  Vs=[0.04, 0.23, 0.58, 1.04, 1.55],\n",
    "                                  dN_dzdA=[1165,3074,1909,732,120])\n",
    "\n",
    "\n",
    "z = [0.65,0.75,0.85,0.95,1.05,1.15,1.25,1.35,1.45,1.55,1.65]\n",
    "Vs = [02.63,3.15,3.65,4.10,4.52,4.89,5.22,5.50,5.75,5.97,6.15]\n",
    "\n",
    "Dic_LRG = construct_galaxy_catalog(Area=14000, \n",
    "                                   bD=1.7,\n",
    "                                  z=z,\n",
    "                                  Vs=Vs,\n",
    "                                  dN_dzdA=[832,986,662,272,51,17,0,0,0,0,0])\n",
    "\n",
    "Dic_ELG = construct_galaxy_catalog(Area=14000, \n",
    "                                   bD=0.84,\n",
    "                                  z=z,\n",
    "                                  Vs=Vs,\n",
    "                                  dN_dzdA=[309,2269,1923,2094,1441,1353,1337,523,466,329,126])"
   ]
  },
  {
   "cell_type": "markdown",
   "metadata": {},
   "source": [
    "Save dictionary"
   ]
  },
  {
   "cell_type": "code",
   "execution_count": 67,
   "metadata": {},
   "outputs": [],
   "source": [
    "import pickle\n",
    "\n",
    "dir = '/n/des/lee.5922/programs/cosmolike/LSST-forecasts/data/'\n",
    "f = open(dir+\"DIC_DESI_BGS.pkl\",\"wb\")\n",
    "pickle.dump(Dic_BGS,f)\n",
    "f.close()\n",
    "\n",
    "f = open(dir+\"DIC_DESI_LRG.pkl\",\"wb\")\n",
    "pickle.dump(Dic_LRG,f)\n",
    "f.close()\n",
    "\n",
    "f = open(dir+\"DIC_DESI_ELG.pkl\",\"wb\")\n",
    "pickle.dump(Dic_ELG,f)\n",
    "f.close()"
   ]
  },
  {
   "cell_type": "markdown",
   "metadata": {},
   "source": [
    "## Make redshift distribution"
   ]
  },
  {
   "cell_type": "code",
   "execution_count": 155,
   "metadata": {},
   "outputs": [],
   "source": [
    "def pz_debono(a,b,c,z0):\n",
    "    \n",
    "    zbin, dz = np.linspace(0.0, 4.0, 401, retstep=True)\n",
    "    zcenter = zbin[:-1] + dz/2.\n",
    "    pnz= (zcenter-c)**a * np.exp( -( (zcenter-c)/z0)**b  )\n",
    "    nanmask = (zcenter < c) \n",
    "    pnz[nanmask] = 0.0 \n",
    "    pnz_integ = np.sum(pnz) #\n",
    "    #pnz_integ = simps( pnz, zcenter )\n",
    "    pnz_norm = pnz/pnz_integ\n",
    "    \n",
    "    pnz_norm[pnz_norm<1e-09] = 0.0\n",
    "    \n",
    "    print 'zeff={:0.2f}'.format(np.sum(zcenter*pnz_norm))\n",
    "    \n",
    "    return zbin[:-1], zcenter, pnz_norm"
   ]
  },
  {
   "cell_type": "code",
   "execution_count": 209,
   "metadata": {},
   "outputs": [
    {
     "name": "stdout",
     "output_type": "stream",
     "text": [
      "zeff=0.19\n",
      "zeff=0.77\n",
      "zeff=1.02\n"
     ]
    }
   ],
   "source": [
    "#zlow, zcenter, pz_bgs = pz_debono(2, 2, 0.0, 0.17)\n",
    "#zlow, zcenter, pz_lrg = pz_debono(2, 2, 0.5, 0.24)\n",
    "#zlow, zcenter, pz_elg = pz_debono(2, 2, 0.5, 0.46)"
   ]
  },
  {
   "cell_type": "code",
   "execution_count": 210,
   "metadata": {
    "scrolled": true
   },
   "outputs": [
    {
     "name": "stdout",
     "output_type": "stream",
     "text": [
      "zeff=0.18\n",
      "zeff=0.78\n",
      "zeff=1.04\n"
     ]
    }
   ],
   "source": [
    "zlow, zcenter, pz_bgs = pz_debono(1, 2, 0.0, 0.2)\n",
    "zlow, zcenter, pz_lrg = pz_debono(1, 2, 0.6, 0.2)\n",
    "zlow, zcenter, pz_elg = pz_debono(1, 2, 0.6, 0.5)"
   ]
  },
  {
   "cell_type": "code",
   "execution_count": 211,
   "metadata": {},
   "outputs": [
    {
     "data": {
      "text/plain": [
       "<matplotlib.text.Text at 0x7f75482c7350>"
      ]
     },
     "execution_count": 211,
     "metadata": {},
     "output_type": "execute_result"
    },
    {
     "data": {
      "image/png": "[encoded data removed]",
      "text/plain": [
       "<matplotlib.figure.Figure at 0x7f75485b7c50>"
      ]
     },
     "metadata": {
      "needs_background": "light"
     },
     "output_type": "display_data"
    }
   ],
   "source": [
    "fig, ax = plt.subplots()\n",
    "ax.plot(zcenter, pz_bgs, label='BGS' )\n",
    "ax.plot(zcenter, pz_lrg, label='LRG' )\n",
    "ax.plot(zcenter, pz_elg, label='ELG' )\n",
    "ax.set_xlim(0,2)\n",
    "ax.legend()\n",
    "ax.set_xlabel('z')\n",
    "ax.set_ylabel('p(z)')"
   ]
  },
  {
   "cell_type": "code",
   "execution_count": 212,
   "metadata": {},
   "outputs": [
    {
     "data": {
      "text/plain": [
       "<matplotlib.text.Text at 0x7f75481c5290>"
      ]
     },
     "execution_count": 212,
     "metadata": {},
     "output_type": "execute_result"
    },
    {
     "data": {
      "image/png": "[encoded data removed]",
      "text/plain": [
       "<matplotlib.figure.Figure at 0x7f7548944490>"
      ]
     },
     "metadata": {
      "needs_background": "light"
     },
     "output_type": "display_data"
    }
   ],
   "source": [
    "fig, ax = plt.subplots()\n",
    "ax.plot(Dic_BGS['z'], Dic_BGS['dN_dzdA'], 'b-', label='BGS' )\n",
    "ax.plot(Dic_LRG['z'], Dic_LRG['dN_dzdA'], 'r-', label='LRG' )\n",
    "ax.plot(Dic_ELG['z'], Dic_ELG['dN_dzdA'], 'g-',label='ELG' )\n",
    "\n",
    "ax.plot(zcenter, pz_bgs * Dic_BGS['N_total']/150, 'b--',  )\n",
    "ax.plot(zcenter, pz_lrg * Dic_LRG['N_total']/150, 'r--', )\n",
    "ax.plot(zcenter, pz_elg * Dic_ELG['N_total']/150, 'g--', )\n",
    "\n",
    "ax.legend()\n",
    "ax.set_xlim(0,2)\n",
    "ax.set_xlabel('z')\n",
    "ax.set_ylabel('$\\\\frac{d^2 N_{\\\\rm gal}}{dzd \\Omega}$')"
   ]
  },
  {
   "cell_type": "code",
   "execution_count": 174,
   "metadata": {},
   "outputs": [],
   "source": [
    "redshift_dat = np.column_stack(( zlow, pz_bgs, pz_lrg, pz_elg  ))\n",
    "redshift_dat_bgs = np.column_stack(( zlow, pz_bgs ))\n",
    "redshift_dat_lrg = np.column_stack(( zlow, pz_lrg ))\n",
    "redshift_dat_elg = np.column_stack(( zlow, pz_elg  ))"
   ]
  },
  {
   "cell_type": "code",
   "execution_count": 118,
   "metadata": {},
   "outputs": [
    {
     "name": "stdout",
     "output_type": "stream",
     "text": [
      "/n/des/lee.5922/programs/cosmolike/LSST-forecasts/data/nz_desi_all.txt\r\n",
      "/n/des/lee.5922/programs/cosmolike/LSST-forecasts/data/nz_desi_all_v2.txt\r\n",
      "/n/des/lee.5922/programs/cosmolike/LSST-forecasts/data/nz_desi_bgs_elg.txt\r\n",
      "/n/des/lee.5922/programs/cosmolike/LSST-forecasts/data/nz_desi_bgs.txt\r\n",
      "/n/des/lee.5922/programs/cosmolike/LSST-forecasts/data/nz_desi_bgs_v2.txt\r\n",
      "/n/des/lee.5922/programs/cosmolike/LSST-forecasts/data/nz_desi_elg.txt\r\n",
      "/n/des/lee.5922/programs/cosmolike/LSST-forecasts/data/nz_desi_elg_v2.txt\r\n",
      "/n/des/lee.5922/programs/cosmolike/LSST-forecasts/data/nz_desi_lrg.txt\r\n",
      "/n/des/lee.5922/programs/cosmolike/LSST-forecasts/data/nz_desi_lrg_v2.txt\r\n"
     ]
    }
   ],
   "source": [
    "ls /n/des/lee.5922/programs/cosmolike/LSST-forecasts/data/nz_desi_*"
   ]
  },
  {
   "cell_type": "code",
   "execution_count": 175,
   "metadata": {},
   "outputs": [],
   "source": [
    "np.savetxt('/n/des/lee.5922/programs/cosmolike/LSST-forecasts/data/nz_desi_all_v2.txt', redshift_dat, fmt='%.10e')\n",
    "np.savetxt('/n/des/lee.5922/programs/cosmolike/LSST-forecasts/data/nz_desi_bgs_v2.txt', redshift_dat_bgs, fmt='%.10e')\n",
    "np.savetxt('/n/des/lee.5922/programs/cosmolike/LSST-forecasts/data/nz_desi_lrg_v2.txt', redshift_dat_lrg, fmt='%.10e')\n",
    "np.savetxt('/n/des/lee.5922/programs/cosmolike/LSST-forecasts/data/nz_desi_elg_v2.txt', redshift_dat_elg, fmt='%.10e')"
   ]
  },
  {
   "cell_type": "code",
   "execution_count": null,
   "metadata": {},
   "outputs": [],
   "source": []
  }
 ],
 "metadata": {
  "kernelspec": {
   "display_name": "'Python Interactive'",
   "language": "python",
   "name": "eced215a-377d-4b9b-b5c2-123586875d72"
  },
  "language_info": {
   "codemirror_mode": {
    "name": "ipython",
    "version": 2
   },
   "file_extension": ".py",
   "mimetype": "text/x-python",
   "name": "python",
   "nbconvert_exporter": "python",
   "pygments_lexer": "ipython2",
   "version": "2.7.5"
  }
 },
 "nbformat": 4,
 "nbformat_minor": 2
}
