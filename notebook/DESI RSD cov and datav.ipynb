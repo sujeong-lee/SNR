{
 "cells": [
  {
   "cell_type": "code",
   "execution_count": 1,
   "metadata": {},
   "outputs": [],
   "source": [
    "import numpy as np\n",
    "import matplotlib\n",
    "matplotlib.use('Agg')\n",
    "import matplotlib.pyplot as plt\n",
    "\n",
    "import sys\n",
    "sys.path.append('../src/')\n",
    "#sys.path.append('/n/des/lee.5922/programs/cosmolike/MG_musigma/')\n",
    "from noshellavg_v2 import *\n",
    "from mock_test import *\n",
    "#from run_error_analysis import *\n",
    "#from plot_chain import plot_single, plot_triple, plot_distributions, plot_summary_bar\n",
    "%matplotlib inline\n",
    "\n",
    "%load_ext autoreload\n",
    "%autoreload 2"
   ]
  },
  {
   "cell_type": "markdown",
   "metadata": {},
   "source": [
    "## Initialize Class, Calculate datavector and cov matrices"
   ]
  },
  {
   "cell_type": "code",
   "execution_count": 21,
   "metadata": {},
   "outputs": [],
   "source": [
    "def fractional_error_on_f(z=0.59, bD=2.0, f = None, s = 3.5, nn=3.0e-04, Vs=5.0e+09, kmax=0.1, verbose=True):\n",
    "    \"\"\"\n",
    "     b = galaxy bias\n",
    "     f = structure growth rate\n",
    "     s = velocity dispersion in FoG term \n",
    "     nn = shot noise \n",
    "    \"\"\"\n",
    "    \n",
    "    cosmo = class_covariance(z=z, \n",
    "                         KMIN=0.001, KMAX = 5, n=5000, \n",
    "                         RMIN = 0.001, RMAX = 200, n2 = 101, \\\n",
    "                         b = 0.0, f = 0.0, s=3.5, nn=nn, Vs=Vs,\n",
    "                         rscale = 'lin', kscale='lin', \n",
    "                         smooth_filter=False)\n",
    "\n",
    "    if verbose: print 'redshift=',cosmo.z\n",
    "\n",
    "    #cosmo.compile_fortran_modules()\n",
    "    cosmo.MatterPower(z=z)\n",
    "\n",
    "    \n",
    "    if f is None: f = cosmo.compute_fz(z=z)\n",
    "    cosmo.f = f\n",
    "    if verbose: print 'f(z)=',cosmo.f\n",
    "    \n",
    "    growth = cosmo.cosmology.growthFactor(z)\n",
    "    cosmo.b = bD/growth\n",
    "    \n",
    "    if verbose:\n",
    "        print 'bD(z)=',cosmo.b*growth\n",
    "        print 'b(z={:0.2f})={:0.2f}'.format(cosmo.z, cosmo.b)\n",
    "    \n",
    "    Pkmu14 = cosmo.Pkmu(0.14, 1.6)\n",
    "    Pkmu20 = cosmo.Pkmu(0.2, 0)\n",
    "    if verbose:\n",
    "        print 'nP14={:0.2f}'.format(cosmo.nn * Pkmu14)\n",
    "        print 'nP20={:0.2f}'.format(cosmo.nn * Pkmu20)\n",
    "    \n",
    "    sigma8_0 = cosmo.compute_sigma8(z=0.0)\n",
    "    sigma8 = cosmo.compute_sigma8(z=z)\n",
    "\n",
    "    cov_bf = cosmo.Pkmu_FisherComputation(kmin=cosmo.KMIN, kmax=kmax, Nq=2)\n",
    "    if verbose:\n",
    "        # print out results-------------------------------\n",
    "        print '---------------------------------\\\n",
    "        \\n Cov matrix of b and f (Theory) \\n{} \\\n",
    "        \\n---------------------------------'.format(cov_bf)\n",
    "  \n",
    "    sigma_b = np.sqrt(cov_bf[0,0])\n",
    "    sigma_f = np.sqrt(cov_bf[1,1])\n",
    "    fractional_err_b = sigma_b/cosmo.b * 100\n",
    "    fractional_err_f = sigma_f/cosmo.f * 100\n",
    "\n",
    "    if verbose:\n",
    "        print 'error on bsig8: {:0.4f}'.format(sigma_b* sigma8)\n",
    "        print 'error on fsig8: {:0.4f}'.format(sigma_f* sigma8)\n",
    "        print 'fractional error db/b: {:0.2f}%'.format(fractional_err_b)\n",
    "        print 'fractional error df/f: {:0.2f}%'.format(fractional_err_f)\n",
    "        print 'bsig8(z)={:0.4f}'.format(cosmo.b * sigma8)\n",
    "        print 'fsig8(z)={:0.4f}'.format(cosmo.f * sigma8)\n",
    "\n",
    "    #sigma8 = 1\n",
    "    return [cosmo.b * sigma8, cosmo.f*sigma8], [fractional_err_b,fractional_err_f], \\\n",
    "[sigma_b*sigma8, sigma_f*sigma8], cov_bf[:2,:2]*sigma8**2\n",
    "    "
   ]
  },
  {
   "cell_type": "code",
   "execution_count": 48,
   "metadata": {},
   "outputs": [],
   "source": [
    "def sum_finebin_errors(Dic):\n",
    "    \n",
    "    z = Dic['z']\n",
    "    Vs = Dic['Vs']\n",
    "    nn = Dic['nbar']\n",
    "    bD = Dic['bD']\n",
    "\n",
    "    \n",
    "    # fiducial quantity at z_eff\n",
    "    z_eff = Dic['z_eff']\n",
    "    params, _, _, _ = fractional_error_on_f(z=z_eff, \\\n",
    "                bD=bD, s = 3.5,nn=Dic['nbar_total'], Vs=Dic['Vs_total'], kmax=0.1)\n",
    "    \n",
    "    \n",
    "    Nq = 2\n",
    "    params_array = np.zeros((Nq,z.size)) #np.zeros(zarray.size)\n",
    "    err_array = np.zeros((Nq,z.size)) #np.zeros(zarray.size)\n",
    "    cov_bfs8_array = np.zeros((Nq,Nq,z.size))\n",
    "    for i in range(z.size):\n",
    "        \n",
    "        if nn[i] == 0: pass\n",
    "        else:\n",
    "            params_array[:,i], _, err_array[:,i], cov_bfs8_array[:,:,i] \\\n",
    "            = fractional_error_on_f(z=z[i], bD=bD, s = 3.5, nn=nn[i], Vs=Vs[i], kmax=0.1, verbose=False)\n",
    "\n",
    "    # combination\n",
    "    \n",
    "    sum_fisher = np.zeros((Nq, Nq))\n",
    "    for i in range(z.size):\n",
    "           \n",
    "        if nn[i] == 0: pass\n",
    "        else:\n",
    "            sum_fisher += np.linalg.inv(cov_bfs8_array[:,:,i])\n",
    "\n",
    "    sum_cov = np.linalg.inv(sum_fisher)\n",
    "    sum_err = np.sqrt(sum_cov.diagonal())\n",
    "    sum_fracerr = [ sum_err[i]/params[i] for i in range(Nq) ]\n",
    "    \n",
    "    print 'z_eff=', z_eff\n",
    "    print 'error on bs8: {:0.4f}'.format(sum_err[0])\n",
    "    print 'error on fs8: {:0.4f}'.format(sum_err[1])\n",
    "    print 'fractional error db/b: {:0.2f}%'.format(sum_fracerr[0]*100)\n",
    "    print 'fractional error df/f: {:0.2f}%'.format(sum_fracerr[1]*100)\n",
    "    print 'bsig8(z)={:0.4f}'.format(params[0])\n",
    "    print 'fsig8(z)={:0.4f}'.format(params[1])\n",
    "        \n",
    "    return params, sum_fracerr, sum_err, sum_cov\n"
   ]
  },
  {
   "cell_type": "code",
   "execution_count": 17,
   "metadata": {},
   "outputs": [
    {
     "name": "stdout",
     "output_type": "stream",
     "text": [
      "compute matter power spectrum using Colossus\n",
      "Set cosmology to  {'flat': True, 'H0': 67.8596, 'Om0': 0.3057076, 'sigma8': 0.8235, 'ns': 0.968376, 'Ob0': 0.04845864}\n",
      "sigma8(z=0.00)=0.82\n",
      "sigma8(z=0.10)=0.78\n",
      "sigma8(z=0.20)=0.74\n",
      "sigma8(z=0.30)=0.70\n",
      "sigma8(z=0.40)=0.67\n",
      "sigma8(z=0.50)=0.64\n",
      "sigma8(z=0.60)=0.60\n",
      "sigma8(z=0.70)=0.58\n",
      "sigma8(z=0.80)=0.55\n",
      "sigma8(z=0.90)=0.52\n",
      "sigma8(z=1.00)=0.50\n",
      "sigma8(z=1.10)=0.48\n",
      "sigma8(z=1.20)=0.46\n",
      "sigma8(z=1.30)=0.44\n",
      "sigma8(z=1.40)=0.43\n",
      "sigma8(z=1.50)=0.41\n",
      "sigma8(z=1.60)=0.40\n",
      "sigma8(z=1.70)=0.38\n",
      "sigma8(z=1.80)=0.37\n",
      "sigma8(z=1.90)=0.36\n",
      "sigma8(z=2.00)=0.35\n"
     ]
    }
   ],
   "source": [
    "params = {'flat': True, 'H0': 67.85960, 'Om0': 3.057076e-01, 'Ob0': 4.845864e-02, 'sigma8': 0.8235, 'ns':9.683760e-01}\n",
    "cosmo_planck = class_covariance(cosmology = params, z=0.0, \n",
    "                 KMIN=0.001, KMAX = 50, n=5001)\n",
    "cosmo_planck.MatterPower(z=0.0)\n",
    "zbins = np.linspace(0, 2.0, 21)\n",
    "fz_theory = cosmo_planck.compute_fz(z=zbins)\n",
    "sigma8_array = [cosmo_planck.compute_sigma8(z=z_i) for z_i in zbins]"
   ]
  },
  {
   "cell_type": "code",
   "execution_count": 328,
   "metadata": {},
   "outputs": [
    {
     "data": {
      "text/plain": [
       "<matplotlib.text.Text at 0x7f8558574c90>"
      ]
     },
     "execution_count": 328,
     "metadata": {},
     "output_type": "execute_result"
    },
    {
     "data": {
      "image/png": "[encoded data removed]",
      "text/plain": [
       "<matplotlib.figure.Figure at 0x7f8557a9db90>"
      ]
     },
     "metadata": {
      "needs_background": "light"
     },
     "output_type": "display_data"
    }
   ],
   "source": [
    "fig, ax = plt.subplots()\n",
    "ax.plot(zbins, b)\n",
    "ax.set_xlabel('z')\n",
    "ax.set_ylabel('b(z)')\n",
    "#ax.set_xlim(0., 1.2)\n"
   ]
  },
  {
   "cell_type": "code",
   "execution_count": 322,
   "metadata": {},
   "outputs": [
    {
     "data": {
      "text/plain": [
       "<matplotlib.text.Text at 0x7f85592cd5d0>"
      ]
     },
     "execution_count": 322,
     "metadata": {},
     "output_type": "execute_result"
    },
    {
     "data": {
      "image/png": "[encoded data removed]",
      "text/plain": [
       "<matplotlib.figure.Figure at 0x7f85591ee890>"
      ]
     },
     "metadata": {
      "needs_background": "light"
     },
     "output_type": "display_data"
    }
   ],
   "source": [
    "fig, ax = plt.subplots()\n",
    "ax.plot(a, growth_array)\n",
    "ax.set_xlabel('z')\n",
    "ax.set_ylabel('D(z)')"
   ]
  },
  {
   "cell_type": "code",
   "execution_count": 18,
   "metadata": {},
   "outputs": [],
   "source": [
    "import pickle\n",
    "dir = '/n/des/lee.5922/programs/cosmolike/LSST-forecasts/data/'\n",
    "f = open(dir+\"DIC_DESI_BGS.pkl\",\"rb\")\n",
    "Dic_BGS = pickle.load(f)\n",
    "f.close()\n",
    "f = open(dir+\"DIC_DESI_LRG.pkl\",\"rb\")\n",
    "Dic_LRG = pickle.load(f)\n",
    "f.close()\n",
    "f = open(dir+\"DIC_DESI_ELG.pkl\",\"rb\")\n",
    "Dic_ELG = pickle.load(f)\n",
    "f.close()"
   ]
  },
  {
   "cell_type": "code",
   "execution_count": 19,
   "metadata": {},
   "outputs": [
    {
     "name": "stdout",
     "output_type": "stream",
     "text": [
      "0.19444444444444445\n",
      "0.07833333333333332\n",
      "0.33805555555555544\n"
     ]
    }
   ],
   "source": [
    "print Dic_BGS['nbar_area']/3600\n",
    "print Dic_LRG['nbar_area']/3600\n",
    "print Dic_ELG['nbar_area']/3600"
   ]
  },
  {
   "cell_type": "code",
   "execution_count": 23,
   "metadata": {},
   "outputs": [
    {
     "name": "stdout",
     "output_type": "stream",
     "text": [
      "redshift= 0.1866857142857143\n",
      "compute matter power spectrum using Colossus\n",
      "Set cosmology to  {'flat': True, 'H0': 67.8596, 'Om0': 0.3057076, 'sigma8': 0.8235, 'ns': 0.968376, 'Ob0': 0.04845864}\n",
      "f(z)= 0.6226972953486164\n",
      "bD(z)= 1.34\n",
      "b(z=0.19)=1.48\n",
      "nP14=30.35\n",
      "nP20=10.17\n",
      "sigma8(z=0.00)=0.82\n",
      "sigma8(z=0.19)=0.75\n",
      "---------------------------------        \n",
      " Cov matrix of b and f (Theory) \n",
      "[[ 4.81933404e-05 -8.71864889e-05]\n",
      " [-8.71864889e-05  3.16592155e-04]]         \n",
      "---------------------------------\n",
      "error on bsig8: 0.0052\n",
      "error on fsig8: 0.0133\n",
      "fractional error db/b: 0.47%\n",
      "fractional error df/f: 2.86%\n",
      "bsig8(z)=1.1035\n",
      "fsig8(z)=0.4651\n"
     ]
    }
   ],
   "source": [
    "# BGS\n",
    "z_eff_bgs = Dic_BGS['z_eff']\n",
    "#Area_desi = Dic_BGS['Area']\n",
    "Vs_bgs = Dic_BGS['Vs_total']\n",
    "nn_bgs = Dic_BGS['nbar_total']\n",
    "bD_bgs = Dic_BGS['bD']\n",
    "\n",
    "params_bgs, _, err_bgs, cov_bfs8_bgs = fractional_error_on_f(z=z_eff_bgs, bD=bD_bgs, s = 3.5, \n",
    "                                                         nn=nn_bgs, Vs=Vs_bgs, kmax=0.1)"
   ]
  },
  {
   "cell_type": "code",
   "execution_count": 24,
   "metadata": {},
   "outputs": [
    {
     "name": "stdout",
     "output_type": "stream",
     "text": [
      "redshift= 0.7710992907801418\n",
      "compute matter power spectrum using Colossus\n",
      "Set cosmology to  {'flat': True, 'H0': 67.8596, 'Om0': 0.3057076, 'sigma8': 0.8235, 'ns': 0.968376, 'Ob0': 0.04845864}\n",
      "f(z)= 0.8291793839166187\n",
      "bD(z)= 1.7\n",
      "b(z=0.77)=2.51\n",
      "nP14=2.58\n",
      "nP20=0.99\n",
      "sigma8(z=0.00)=0.82\n",
      "sigma8(z=0.77)=0.56\n",
      "---------------------------------        \n",
      " Cov matrix of b and f (Theory) \n",
      "[[ 2.90672861e-05 -5.09289432e-05]\n",
      " [-5.09289432e-05  1.71449351e-04]]         \n",
      "---------------------------------\n",
      "error on bsig8: 0.0030\n",
      "error on fsig8: 0.0073\n",
      "fractional error db/b: 0.21%\n",
      "fractional error df/f: 1.58%\n",
      "bsig8(z)=1.4000\n",
      "fsig8(z)=0.4618\n"
     ]
    }
   ],
   "source": [
    "# LRG\n",
    "z_eff_lrg = Dic_LRG['z_eff']\n",
    "#Area_desi = Dic_BGS['Area']\n",
    "Vs_lrg = Dic_LRG['Vs_total']\n",
    "nn_lrg = Dic_LRG['nbar_total']\n",
    "bD_lrg = Dic_LRG['bD']\n",
    "\n",
    "params_lrg, _, err_lrg, cov_bfs8_lrg = fractional_error_on_f(z=z_eff_lrg, bD=bD_lrg, s = 3.5, \n",
    "                                                         nn=nn_lrg, Vs=Vs_lrg, kmax=0.1)"
   ]
  },
  {
   "cell_type": "code",
   "execution_count": 25,
   "metadata": {},
   "outputs": [
    {
     "name": "stdout",
     "output_type": "stream",
     "text": [
      "redshift= 1.016129827444536\n",
      "compute matter power spectrum using Colossus\n",
      "Set cosmology to  {'flat': True, 'H0': 67.8596, 'Om0': 0.3057076, 'sigma8': 0.8235, 'ns': 0.968376, 'Ob0': 0.04845864}\n",
      "f(z)= 0.8742514791416328\n",
      "bD(z)= 0.8399999999999999\n",
      "b(z=1.02)=1.39\n",
      "nP14=1.82\n",
      "nP20=0.46\n",
      "sigma8(z=0.00)=0.82\n",
      "sigma8(z=1.02)=0.50\n",
      "---------------------------------        \n",
      " Cov matrix of b and f (Theory) \n",
      "[[ 5.80170282e-06 -1.03490390e-05]\n",
      " [-1.03490390e-05  3.61202038e-05]]         \n",
      "---------------------------------\n",
      "error on bsig8: 0.0012\n",
      "error on fsig8: 0.0030\n",
      "fractional error db/b: 0.17%\n",
      "fractional error df/f: 0.69%\n",
      "bsig8(z)=0.6917\n",
      "fsig8(z)=0.4360\n"
     ]
    }
   ],
   "source": [
    "# ELG\n",
    "z_eff_elg = Dic_ELG['z_eff']\n",
    "#Area_desi = Dic_BGS['Area']\n",
    "Vs_elg = Dic_ELG['Vs_total']\n",
    "nn_elg = Dic_ELG['nbar_total']\n",
    "bD_elg = Dic_ELG['bD']\n",
    "\n",
    "params_elg, _, err_elg, cov_bfs8_elg = fractional_error_on_f(z=z_eff_elg, bD=bD_elg, s = 3.5, \n",
    "                                                         nn=nn_elg, Vs=Vs_elg, kmax=0.1)"
   ]
  },
  {
   "cell_type": "code",
   "execution_count": 26,
   "metadata": {},
   "outputs": [],
   "source": [
    "mean = params_bgs\n",
    "cov = cov_bfs8_bgs[:2,:2]\n",
    "chain_desi_bgs = np.random.multivariate_normal(mean, cov, size=50000)"
   ]
  },
  {
   "cell_type": "code",
   "execution_count": 27,
   "metadata": {},
   "outputs": [
    {
     "data": {
      "image/png": "[encoded data removed]",
      "text/plain": [
       "<matplotlib.figure.Figure at 0x7f8c531fb950>"
      ]
     },
     "metadata": {
      "needs_background": "light"
     },
     "output_type": "display_data"
    }
   ],
   "source": [
    "import numpy as np\n",
    "from chainconsumer import ChainConsumer\n",
    "\n",
    "parameters=[\"$b \\sigma_8(z)$\", \"$f \\sigma_8(z)$\"]\n",
    "\n",
    "c = ChainConsumer()\n",
    "c.add_chain(chain_desi_bgs, parameters=parameters, name='DESI BGS')\n",
    "#c.add_chain(chain_boss, name='desi')\n",
    "\n",
    "c.configure(plot_hists=True, flip=False, colors = ['blue', 'red', 'orange'], kde=[1])\n",
    "#c.plotter.plot(filename=\"example.pdf\", figsize=(3,3), truth=mean)\n",
    "fig = c.plotter.plot(truth=mean)\n",
    "fig.set_size_inches(3 + fig.get_size_inches())"
   ]
  },
  {
   "cell_type": "code",
   "execution_count": 36,
   "metadata": {},
   "outputs": [],
   "source": [
    "mean = params_lrg\n",
    "cov = cov_bfs8_lrg[:2,:2]\n",
    "chain_desi_lrg = np.random.multivariate_normal(mean, cov, size=50000)"
   ]
  },
  {
   "cell_type": "code",
   "execution_count": 37,
   "metadata": {},
   "outputs": [
    {
     "data": {
      "image/png": "[encoded data removed]",
      "text/plain": [
       "<matplotlib.figure.Figure at 0x7f8c55d98850>"
      ]
     },
     "metadata": {
      "needs_background": "light"
     },
     "output_type": "display_data"
    }
   ],
   "source": [
    "import numpy as np\n",
    "from chainconsumer import ChainConsumer\n",
    "\n",
    "parameters=[\"$b \\sigma_8(z)$\", \"$f \\sigma_8(z)$\"]\n",
    "\n",
    "c = ChainConsumer()\n",
    "c.add_chain(chain_desi_lrg, parameters=parameters, name='DESI LRG')\n",
    "#c.add_chain(chain_boss, name='desi')\n",
    "\n",
    "c.configure(plot_hists=True, flip=False, colors = ['red', 'red', 'orange'], kde=[1])\n",
    "#c.plotter.plot(filename=\"example.pdf\", figsize=(3,3), truth=mean)\n",
    "fig = c.plotter.plot(truth=mean)\n",
    "fig.set_size_inches(3 + fig.get_size_inches())"
   ]
  },
  {
   "cell_type": "code",
   "execution_count": null,
   "metadata": {},
   "outputs": [],
   "source": [
    "mean = params_elg\n",
    "cov = cov_bfs8_elg[:2,:2]\n",
    "chain_desi_elg = np.random.multivariate_normal(mean, cov, size=50000)"
   ]
  },
  {
   "cell_type": "code",
   "execution_count": 31,
   "metadata": {},
   "outputs": [
    {
     "data": {
      "image/png": "[encoded data removed]",
      "text/plain": [
       "<matplotlib.figure.Figure at 0x7f8c55cd4b10>"
      ]
     },
     "metadata": {
      "needs_background": "light"
     },
     "output_type": "display_data"
    }
   ],
   "source": [
    "import numpy as np\n",
    "from chainconsumer import ChainConsumer\n",
    "\n",
    "parameters=[\"$b \\sigma_8(z)$\", \"$f \\sigma_8(z)$\"]\n",
    "\n",
    "c = ChainConsumer()\n",
    "c.add_chain(chain_desi_elg, parameters=parameters, name='DESI ELG')\n",
    "#c.add_chain(chain_boss, name='desi')\n",
    "\n",
    "c.configure(plot_hists=True, flip=False, colors = ['orange', 'red', 'orange'], kde=[1])\n",
    "#c.plotter.plot(filename=\"example.pdf\", figsize=(3,3), truth=mean)\n",
    "fig = c.plotter.plot(truth=mean)\n",
    "fig.set_size_inches(3 + fig.get_size_inches())"
   ]
  },
  {
   "cell_type": "code",
   "execution_count": 32,
   "metadata": {},
   "outputs": [
    {
     "data": {
      "text/plain": [
       "<matplotlib.text.Text at 0x7f8c55d469d0>"
      ]
     },
     "execution_count": 32,
     "metadata": {},
     "output_type": "execute_result"
    },
    {
     "data": {
      "image/png": "[encoded data removed]",
      "text/plain": [
       "<matplotlib.figure.Figure at 0x7f8ca97f5ed0>"
      ]
     },
     "metadata": {
      "needs_background": "light"
     },
     "output_type": "display_data"
    }
   ],
   "source": [
    "fig, ax = plt.subplots()\n",
    "ax.plot(zbins, fz_theory*sigma8_array, 'k-', lw=1)\n",
    "ax.errorbar(z_eff_bgs, params_bgs[1], yerr=err_bgs[1], fmt='o', capsize=5, label='DESI BGS')\n",
    "ax.errorbar(z_eff_lrg, params_lrg[1], yerr=err_lrg[1], fmt='o', capsize=5, label='DESI LRG')\n",
    "ax.errorbar(z_eff_elg, params_elg[1], yerr=err_elg[1], fmt='o', capsize=5, label='DESI ELG')\n",
    "\n",
    "ax.legend()\n",
    "ax.set_xlim(0,2)\n",
    "ax.set_ylim(0.25, 0.6)\n",
    "ax.set_xlabel('$z$')\n",
    "ax.set_ylabel('$f(z)\\sigma_8 (z)$')"
   ]
  },
  {
   "cell_type": "code",
   "execution_count": 33,
   "metadata": {},
   "outputs": [
    {
     "data": {
      "text/plain": [
       "<matplotlib.text.Text at 0x7f8c52b19f90>"
      ]
     },
     "execution_count": 33,
     "metadata": {},
     "output_type": "execute_result"
    },
    {
     "data": {
      "image/png": "[encoded data removed]",
      "text/plain": [
       "<matplotlib.figure.Figure at 0x7f8d01bf2f90>"
      ]
     },
     "metadata": {
      "needs_background": "light"
     },
     "output_type": "display_data"
    }
   ],
   "source": [
    "sig8_bgs = 0.73\n",
    "sig8_lrg = 0.55\n",
    "sig8_elg = 0.49\n",
    "\n",
    "fig, ax = plt.subplots()\n",
    "ax.plot(zbins, fz_theory, 'k-', lw=1)\n",
    "ax.errorbar(z_eff_bgs, params_bgs[1]/sig8_bgs, yerr=err_bgs[1]/sig8_bgs, fmt='o', capsize=5, label='DESI BGS')\n",
    "ax.errorbar(z_eff_lrg, params_lrg[1]/sig8_lrg, yerr=err_lrg[1]/sig8_lrg, fmt='o', capsize=5, label='DESI LRG')\n",
    "ax.errorbar(z_eff_elg, params_elg[1]/sig8_elg, yerr=err_elg[1]/sig8_elg, fmt='o', capsize=5, label='DESI ELG')\n",
    "\n",
    "ax.legend()\n",
    "ax.set_xlim(0,2)\n",
    "ax.set_ylim(0.4, 1.0)\n",
    "ax.set_xlabel('$z$')\n",
    "ax.set_ylabel('$f(z)$')"
   ]
  },
  {
   "cell_type": "code",
   "execution_count": 34,
   "metadata": {},
   "outputs": [
    {
     "data": {
      "text/plain": [
       "<matplotlib.text.Text at 0x7f8d01ef2190>"
      ]
     },
     "execution_count": 34,
     "metadata": {},
     "output_type": "execute_result"
    },
    {
     "data": {
      "image/png": "[encoded data removed]",
      "text/plain": [
       "<matplotlib.figure.Figure at 0x7f8c52bdcfd0>"
      ]
     },
     "metadata": {
      "needs_background": "light"
     },
     "output_type": "display_data"
    }
   ],
   "source": [
    "fig, ax = plt.subplots()\n",
    "ax.plot(zbins, fz_theory*sigma8_array, 'k-', lw=1)\n",
    "ax.errorbar(z_eff_bgs, params_bgs[1], yerr=err_bgs[1], fmt='o', capsize=5, label='DESI BGS')\n",
    "ax.errorbar(z_eff_lrg, params_lrg[1], yerr=err_lrg[1], fmt='o', capsize=5, label='DESI LRG')\n",
    "ax.errorbar(z_eff_elg, params_elg[1], yerr=err_elg[1], fmt='o', capsize=5, label='DESI ELG')\n",
    "\n",
    "ax.legend()\n",
    "ax.set_xlim(0,2)\n",
    "ax.set_ylim(0.25, 0.6)\n",
    "ax.set_xlabel('$z$')\n",
    "ax.set_ylabel('$f(z)\\sigma_8 (z)$')"
   ]
  },
  {
   "cell_type": "code",
   "execution_count": null,
   "metadata": {},
   "outputs": [],
   "source": []
  },
  {
   "cell_type": "markdown",
   "metadata": {},
   "source": [
    "## Fine Bins"
   ]
  },
  {
   "cell_type": "code",
   "execution_count": 38,
   "metadata": {
    "collapsed": true
   },
   "outputs": [
    {
     "name": "stdout",
     "output_type": "stream",
     "text": [
      "redshift= 0.1866857142857143\n",
      "compute matter power spectrum using Colossus\n",
      "Set cosmology to  {'flat': True, 'H0': 67.8596, 'Om0': 0.3057076, 'sigma8': 0.8235, 'ns': 0.968376, 'Ob0': 0.04845864}\n",
      "f(z)= 0.6226972953486164\n",
      "bD(z)= 1.34\n",
      "b(z=0.19)=1.48\n",
      "nP14=30.35\n",
      "nP20=10.17\n",
      "sigma8(z=0.00)=0.82\n",
      "sigma8(z=0.19)=0.75\n",
      "---------------------------------        \n",
      " Cov matrix of b and f (Theory) \n",
      "[[ 4.81933404e-05 -8.71864889e-05]\n",
      " [-8.71864889e-05  3.16592155e-04]]         \n",
      "---------------------------------\n",
      "error on bsig8: 0.0052\n",
      "error on fsig8: 0.0133\n",
      "fractional error db/b: 0.47%\n",
      "fractional error df/f: 2.86%\n",
      "bsig8(z)=1.1035\n",
      "fsig8(z)=0.4651\n",
      "compute matter power spectrum using Colossus\n",
      "Set cosmology to  {'flat': True, 'H0': 67.8596, 'Om0': 0.3057076, 'sigma8': 0.8235, 'ns': 0.968376, 'Ob0': 0.04845864}\n",
      "sigma8(z=0.00)=0.82\n",
      "sigma8(z=0.05)=0.80\n",
      "compute matter power spectrum using Colossus\n",
      "Set cosmology to  {'flat': True, 'H0': 67.8596, 'Om0': 0.3057076, 'sigma8': 0.8235, 'ns': 0.968376, 'Ob0': 0.04845864}\n",
      "sigma8(z=0.00)=0.82\n",
      "sigma8(z=0.15)=0.76\n",
      "compute matter power spectrum using Colossus\n",
      "Set cosmology to  {'flat': True, 'H0': 67.8596, 'Om0': 0.3057076, 'sigma8': 0.8235, 'ns': 0.968376, 'Ob0': 0.04845864}\n",
      "sigma8(z=0.00)=0.82\n",
      "sigma8(z=0.25)=0.72\n",
      "compute matter power spectrum using Colossus\n",
      "Set cosmology to  {'flat': True, 'H0': 67.8596, 'Om0': 0.3057076, 'sigma8': 0.8235, 'ns': 0.968376, 'Ob0': 0.04845864}\n",
      "sigma8(z=0.00)=0.82\n",
      "sigma8(z=0.35)=0.69\n",
      "compute matter power spectrum using Colossus\n",
      "Set cosmology to  {'flat': True, 'H0': 67.8596, 'Om0': 0.3057076, 'sigma8': 0.8235, 'ns': 0.968376, 'Ob0': 0.04845864}\n",
      "sigma8(z=0.00)=0.82\n",
      "sigma8(z=0.45)=0.65\n",
      "z_eff= 0.1866857142857143\n",
      "error on bs8: 0.0061\n",
      "error on fs8: 0.0152\n",
      "fractional error db/b: 0.55%\n",
      "fractional error df/f: 3.27%\n",
      "bsig8(z)=1.1035\n",
      "fsig8(z)=0.4651\n"
     ]
    }
   ],
   "source": [
    "params_bgs, sum_fracerr_bgs, sum_err_bgs, sum_cov_bfs8_bgs = sum_finebin_errors(Dic_BGS)"
   ]
  },
  {
   "cell_type": "code",
   "execution_count": 39,
   "metadata": {
    "collapsed": true
   },
   "outputs": [
    {
     "name": "stdout",
     "output_type": "stream",
     "text": [
      "redshift= 1.016129827444536\n",
      "compute matter power spectrum using Colossus\n",
      "Set cosmology to  {'flat': True, 'H0': 67.8596, 'Om0': 0.3057076, 'sigma8': 0.8235, 'ns': 0.968376, 'Ob0': 0.04845864}\n",
      "f(z)= 0.8742514791416328\n",
      "bD(z)= 0.8399999999999999\n",
      "b(z=1.02)=1.39\n",
      "nP14=1.82\n",
      "nP20=0.46\n",
      "sigma8(z=0.00)=0.82\n",
      "sigma8(z=1.02)=0.50\n",
      "---------------------------------        \n",
      " Cov matrix of b and f (Theory) \n",
      "[[ 5.80170282e-06 -1.03490390e-05]\n",
      " [-1.03490390e-05  3.61202038e-05]]         \n",
      "---------------------------------\n",
      "error on bsig8: 0.0012\n",
      "error on fsig8: 0.0030\n",
      "fractional error db/b: 0.17%\n",
      "fractional error df/f: 0.69%\n",
      "bsig8(z)=0.6917\n",
      "fsig8(z)=0.4360\n",
      "compute matter power spectrum using Colossus\n",
      "Set cosmology to  {'flat': True, 'H0': 67.8596, 'Om0': 0.3057076, 'sigma8': 0.8235, 'ns': 0.968376, 'Ob0': 0.04845864}\n",
      "sigma8(z=0.00)=0.82\n",
      "sigma8(z=0.65)=0.59\n",
      "compute matter power spectrum using Colossus\n",
      "Set cosmology to  {'flat': True, 'H0': 67.8596, 'Om0': 0.3057076, 'sigma8': 0.8235, 'ns': 0.968376, 'Ob0': 0.04845864}\n",
      "sigma8(z=0.00)=0.82\n",
      "sigma8(z=0.75)=0.56\n",
      "compute matter power spectrum using Colossus\n",
      "Set cosmology to  {'flat': True, 'H0': 67.8596, 'Om0': 0.3057076, 'sigma8': 0.8235, 'ns': 0.968376, 'Ob0': 0.04845864}\n",
      "sigma8(z=0.00)=0.82\n",
      "sigma8(z=0.85)=0.54\n",
      "compute matter power spectrum using Colossus\n",
      "Set cosmology to  {'flat': True, 'H0': 67.8596, 'Om0': 0.3057076, 'sigma8': 0.8235, 'ns': 0.968376, 'Ob0': 0.04845864}\n",
      "sigma8(z=0.00)=0.82\n",
      "sigma8(z=0.95)=0.51\n",
      "compute matter power spectrum using Colossus\n",
      "Set cosmology to  {'flat': True, 'H0': 67.8596, 'Om0': 0.3057076, 'sigma8': 0.8235, 'ns': 0.968376, 'Ob0': 0.04845864}\n",
      "sigma8(z=0.00)=0.82\n",
      "sigma8(z=1.05)=0.49\n",
      "compute matter power spectrum using Colossus\n",
      "Set cosmology to  {'flat': True, 'H0': 67.8596, 'Om0': 0.3057076, 'sigma8': 0.8235, 'ns': 0.968376, 'Ob0': 0.04845864}\n",
      "sigma8(z=0.00)=0.82\n",
      "sigma8(z=1.15)=0.47\n",
      "compute matter power spectrum using Colossus\n",
      "Set cosmology to  {'flat': True, 'H0': 67.8596, 'Om0': 0.3057076, 'sigma8': 0.8235, 'ns': 0.968376, 'Ob0': 0.04845864}\n",
      "sigma8(z=0.00)=0.82\n",
      "sigma8(z=1.25)=0.45\n",
      "compute matter power spectrum using Colossus\n",
      "Set cosmology to  {'flat': True, 'H0': 67.8596, 'Om0': 0.3057076, 'sigma8': 0.8235, 'ns': 0.968376, 'Ob0': 0.04845864}\n",
      "sigma8(z=0.00)=0.82\n",
      "sigma8(z=1.35)=0.43\n",
      "compute matter power spectrum using Colossus\n",
      "Set cosmology to  {'flat': True, 'H0': 67.8596, 'Om0': 0.3057076, 'sigma8': 0.8235, 'ns': 0.968376, 'Ob0': 0.04845864}\n",
      "sigma8(z=0.00)=0.82\n",
      "sigma8(z=1.45)=0.42\n",
      "compute matter power spectrum using Colossus\n",
      "Set cosmology to  {'flat': True, 'H0': 67.8596, 'Om0': 0.3057076, 'sigma8': 0.8235, 'ns': 0.968376, 'Ob0': 0.04845864}\n",
      "sigma8(z=0.00)=0.82\n",
      "sigma8(z=1.55)=0.40\n",
      "compute matter power spectrum using Colossus\n",
      "Set cosmology to  {'flat': True, 'H0': 67.8596, 'Om0': 0.3057076, 'sigma8': 0.8235, 'ns': 0.968376, 'Ob0': 0.04845864}\n",
      "sigma8(z=0.00)=0.82\n",
      "sigma8(z=1.65)=0.39\n",
      "z_eff= 1.016129827444536\n",
      "error on bs8: 0.0013\n",
      "error on fs8: 0.0034\n",
      "fractional error db/b: 0.20%\n",
      "fractional error df/f: 0.77%\n",
      "bsig8(z)=0.6917\n",
      "fsig8(z)=0.4360\n"
     ]
    }
   ],
   "source": [
    "params_elg, sum_fracerr_elg, sum_err_elg, sum_cov_bfs8_elg = sum_finebin_errors(Dic_ELG)"
   ]
  },
  {
   "cell_type": "code",
   "execution_count": 49,
   "metadata": {
    "collapsed": true
   },
   "outputs": [
    {
     "name": "stdout",
     "output_type": "stream",
     "text": [
      "redshift= 0.7710992907801418\n",
      "compute matter power spectrum using Colossus\n",
      "Set cosmology to  {'flat': True, 'H0': 67.8596, 'Om0': 0.3057076, 'sigma8': 0.8235, 'ns': 0.968376, 'Ob0': 0.04845864}\n",
      "f(z)= 0.8291793839166187\n",
      "bD(z)= 1.7\n",
      "b(z=0.77)=2.51\n",
      "nP14=2.58\n",
      "nP20=0.99\n",
      "sigma8(z=0.00)=0.82\n",
      "sigma8(z=0.77)=0.56\n",
      "---------------------------------        \n",
      " Cov matrix of b and f (Theory) \n",
      "[[ 2.90672861e-05 -5.09289432e-05]\n",
      " [-5.09289432e-05  1.71449351e-04]]         \n",
      "---------------------------------\n",
      "error on bsig8: 0.0030\n",
      "error on fsig8: 0.0073\n",
      "fractional error db/b: 0.21%\n",
      "fractional error df/f: 1.58%\n",
      "bsig8(z)=1.4000\n",
      "fsig8(z)=0.4618\n",
      "compute matter power spectrum using Colossus\n",
      "Set cosmology to  {'flat': True, 'H0': 67.8596, 'Om0': 0.3057076, 'sigma8': 0.8235, 'ns': 0.968376, 'Ob0': 0.04845864}\n",
      "sigma8(z=0.00)=0.82\n",
      "sigma8(z=0.65)=0.59\n",
      "compute matter power spectrum using Colossus\n",
      "Set cosmology to  {'flat': True, 'H0': 67.8596, 'Om0': 0.3057076, 'sigma8': 0.8235, 'ns': 0.968376, 'Ob0': 0.04845864}\n",
      "sigma8(z=0.00)=0.82\n",
      "sigma8(z=0.75)=0.56\n",
      "compute matter power spectrum using Colossus\n",
      "Set cosmology to  {'flat': True, 'H0': 67.8596, 'Om0': 0.3057076, 'sigma8': 0.8235, 'ns': 0.968376, 'Ob0': 0.04845864}\n",
      "sigma8(z=0.00)=0.82\n",
      "sigma8(z=0.85)=0.54\n",
      "compute matter power spectrum using Colossus\n",
      "Set cosmology to  {'flat': True, 'H0': 67.8596, 'Om0': 0.3057076, 'sigma8': 0.8235, 'ns': 0.968376, 'Ob0': 0.04845864}\n",
      "sigma8(z=0.00)=0.82\n",
      "sigma8(z=0.95)=0.51\n",
      "compute matter power spectrum using Colossus\n",
      "Set cosmology to  {'flat': True, 'H0': 67.8596, 'Om0': 0.3057076, 'sigma8': 0.8235, 'ns': 0.968376, 'Ob0': 0.04845864}\n",
      "sigma8(z=0.00)=0.82\n",
      "sigma8(z=1.05)=0.49\n",
      "compute matter power spectrum using Colossus\n",
      "Set cosmology to  {'flat': True, 'H0': 67.8596, 'Om0': 0.3057076, 'sigma8': 0.8235, 'ns': 0.968376, 'Ob0': 0.04845864}\n",
      "sigma8(z=0.00)=0.82\n",
      "sigma8(z=1.15)=0.47\n",
      "z_eff= 0.7710992907801418\n",
      "error on bs8: 0.0037\n",
      "error on fs8: 0.0089\n",
      "fractional error db/b: 0.26%\n",
      "fractional error df/f: 1.93%\n",
      "bsig8(z)=1.4000\n",
      "fsig8(z)=0.4618\n"
     ]
    }
   ],
   "source": [
    "params_lrg, sum_fracerr_lrg, sum_err_lrg, sum_cov_bfs8_lrg = sum_finebin_errors(Dic_LRG)"
   ]
  },
  {
   "cell_type": "code",
   "execution_count": null,
   "metadata": {},
   "outputs": [],
   "source": []
  },
  {
   "cell_type": "code",
   "execution_count": 50,
   "metadata": {},
   "outputs": [
    {
     "name": "stdout",
     "output_type": "stream",
     "text": [
      "compute matter power spectrum using Colossus\n",
      "Set cosmology to  {'flat': True, 'H0': 67.8596, 'Om0': 0.3057076, 'sigma8': 0.8235, 'ns': 0.968376, 'Ob0': 0.04845864}\n",
      "sigma8(z=0.00)=0.82\n",
      "sigma8(z=0.65)=0.59\n",
      "compute matter power spectrum using Colossus\n",
      "Set cosmology to  {'flat': True, 'H0': 67.8596, 'Om0': 0.3057076, 'sigma8': 0.8235, 'ns': 0.968376, 'Ob0': 0.04845864}\n",
      "sigma8(z=0.00)=0.82\n",
      "sigma8(z=0.75)=0.56\n",
      "compute matter power spectrum using Colossus\n",
      "Set cosmology to  {'flat': True, 'H0': 67.8596, 'Om0': 0.3057076, 'sigma8': 0.8235, 'ns': 0.968376, 'Ob0': 0.04845864}\n",
      "sigma8(z=0.00)=0.82\n",
      "sigma8(z=0.85)=0.54\n",
      "compute matter power spectrum using Colossus\n",
      "Set cosmology to  {'flat': True, 'H0': 67.8596, 'Om0': 0.3057076, 'sigma8': 0.8235, 'ns': 0.968376, 'Ob0': 0.04845864}\n",
      "sigma8(z=0.00)=0.82\n",
      "sigma8(z=0.95)=0.51\n",
      "compute matter power spectrum using Colossus\n",
      "Set cosmology to  {'flat': True, 'H0': 67.8596, 'Om0': 0.3057076, 'sigma8': 0.8235, 'ns': 0.968376, 'Ob0': 0.04845864}\n",
      "sigma8(z=0.00)=0.82\n",
      "sigma8(z=1.05)=0.49\n",
      "compute matter power spectrum using Colossus\n",
      "Set cosmology to  {'flat': True, 'H0': 67.8596, 'Om0': 0.3057076, 'sigma8': 0.8235, 'ns': 0.968376, 'Ob0': 0.04845864}\n",
      "sigma8(z=0.00)=0.82\n",
      "sigma8(z=1.15)=0.47\n"
     ]
    }
   ],
   "source": [
    "# LRG\n",
    "\n",
    "z_lrg = Dic_LRG['z']\n",
    "Vs_lrg = Dic_LRG['Vs']\n",
    "nn_lrg = Dic_LRG['nbar']\n",
    "bD_lrg = Dic_LRG['bD']\n",
    "\n",
    "\n",
    "params_lrg_array = np.zeros((2,z_lrg.size)) #np.zeros(zarray.size)\n",
    "err_lrg_array = np.zeros((2,z_lrg.size)) #np.zeros(zarray.size)\n",
    "cov_bfs8_lrg_array = np.zeros((2,2,z_lrg.size))\n",
    "for i in range(z_lrg.size):\n",
    "    if nn_lrg[i] == 0: pass\n",
    "    else: params_lrg_array[:,i], _, err_lrg_array[:,i], cov_bfs8_lrg_array[:,:,i] = fractional_error_on_f(z=z_lrg[i], bD=bD_lrg, s = 3.5, \n",
    "                                                         nn=nn_lrg[i], Vs=Vs_lrg[i], kmax=0.1, verbose=False)\n",
    "\n"
   ]
  },
  {
   "cell_type": "code",
   "execution_count": 51,
   "metadata": {},
   "outputs": [
    {
     "name": "stdout",
     "output_type": "stream",
     "text": [
      "compute matter power spectrum using Colossus\n",
      "Set cosmology to  {'flat': True, 'H0': 67.8596, 'Om0': 0.3057076, 'sigma8': 0.8235, 'ns': 0.968376, 'Ob0': 0.04845864}\n",
      "sigma8(z=0.00)=0.82\n",
      "sigma8(z=0.05)=0.80\n",
      "compute matter power spectrum using Colossus\n",
      "Set cosmology to  {'flat': True, 'H0': 67.8596, 'Om0': 0.3057076, 'sigma8': 0.8235, 'ns': 0.968376, 'Ob0': 0.04845864}\n",
      "sigma8(z=0.00)=0.82\n",
      "sigma8(z=0.15)=0.76\n",
      "compute matter power spectrum using Colossus\n",
      "Set cosmology to  {'flat': True, 'H0': 67.8596, 'Om0': 0.3057076, 'sigma8': 0.8235, 'ns': 0.968376, 'Ob0': 0.04845864}\n",
      "sigma8(z=0.00)=0.82\n",
      "sigma8(z=0.25)=0.72\n",
      "compute matter power spectrum using Colossus\n",
      "Set cosmology to  {'flat': True, 'H0': 67.8596, 'Om0': 0.3057076, 'sigma8': 0.8235, 'ns': 0.968376, 'Ob0': 0.04845864}\n",
      "sigma8(z=0.00)=0.82\n",
      "sigma8(z=0.35)=0.69\n",
      "compute matter power spectrum using Colossus\n",
      "Set cosmology to  {'flat': True, 'H0': 67.8596, 'Om0': 0.3057076, 'sigma8': 0.8235, 'ns': 0.968376, 'Ob0': 0.04845864}\n",
      "sigma8(z=0.00)=0.82\n",
      "sigma8(z=0.45)=0.65\n"
     ]
    }
   ],
   "source": [
    "# BGS\n",
    "\n",
    "z_bgs = Dic_BGS['z']\n",
    "Vs_bgs = Dic_BGS['Vs']\n",
    "nn_bgs = Dic_BGS['nbar']\n",
    "bD_bgs = Dic_BGS['bD']\n",
    "\n",
    "params_bgs_array = np.zeros((2,z_bgs.size)) #np.zeros(zarray.size)\n",
    "err_bgs_array = np.zeros((2,z_bgs.size)) #np.zeros(zarray.size)\n",
    "cov_bfs8_bgs_array = np.zeros((2,2,z_bgs.size))\n",
    "for i in range(z_bgs.size):\n",
    "    params_bgs_array[:,i], _, err_bgs_array[:,i], cov_bfs8_bgs_array[:,:,i] = fractional_error_on_f(z=z_bgs[i], bD=bD_bgs, s = 3.5, \n",
    "                                                         nn=nn_bgs[i], Vs=Vs_bgs[i], kmax=0.1, verbose=False)\n",
    "\n"
   ]
  },
  {
   "cell_type": "code",
   "execution_count": 52,
   "metadata": {},
   "outputs": [
    {
     "name": "stdout",
     "output_type": "stream",
     "text": [
      "compute matter power spectrum using Colossus\n",
      "Set cosmology to  {'flat': True, 'H0': 67.8596, 'Om0': 0.3057076, 'sigma8': 0.8235, 'ns': 0.968376, 'Ob0': 0.04845864}\n",
      "sigma8(z=0.00)=0.82\n",
      "sigma8(z=0.65)=0.59\n",
      "compute matter power spectrum using Colossus\n",
      "Set cosmology to  {'flat': True, 'H0': 67.8596, 'Om0': 0.3057076, 'sigma8': 0.8235, 'ns': 0.968376, 'Ob0': 0.04845864}\n",
      "sigma8(z=0.00)=0.82\n",
      "sigma8(z=0.75)=0.56\n",
      "compute matter power spectrum using Colossus\n",
      "Set cosmology to  {'flat': True, 'H0': 67.8596, 'Om0': 0.3057076, 'sigma8': 0.8235, 'ns': 0.968376, 'Ob0': 0.04845864}\n",
      "sigma8(z=0.00)=0.82\n",
      "sigma8(z=0.85)=0.54\n",
      "compute matter power spectrum using Colossus\n",
      "Set cosmology to  {'flat': True, 'H0': 67.8596, 'Om0': 0.3057076, 'sigma8': 0.8235, 'ns': 0.968376, 'Ob0': 0.04845864}\n",
      "sigma8(z=0.00)=0.82\n",
      "sigma8(z=0.95)=0.51\n",
      "compute matter power spectrum using Colossus\n",
      "Set cosmology to  {'flat': True, 'H0': 67.8596, 'Om0': 0.3057076, 'sigma8': 0.8235, 'ns': 0.968376, 'Ob0': 0.04845864}\n",
      "sigma8(z=0.00)=0.82\n",
      "sigma8(z=1.05)=0.49\n",
      "compute matter power spectrum using Colossus\n",
      "Set cosmology to  {'flat': True, 'H0': 67.8596, 'Om0': 0.3057076, 'sigma8': 0.8235, 'ns': 0.968376, 'Ob0': 0.04845864}\n",
      "sigma8(z=0.00)=0.82\n",
      "sigma8(z=1.15)=0.47\n",
      "compute matter power spectrum using Colossus\n",
      "Set cosmology to  {'flat': True, 'H0': 67.8596, 'Om0': 0.3057076, 'sigma8': 0.8235, 'ns': 0.968376, 'Ob0': 0.04845864}\n",
      "sigma8(z=0.00)=0.82\n",
      "sigma8(z=1.25)=0.45\n",
      "compute matter power spectrum using Colossus\n",
      "Set cosmology to  {'flat': True, 'H0': 67.8596, 'Om0': 0.3057076, 'sigma8': 0.8235, 'ns': 0.968376, 'Ob0': 0.04845864}\n",
      "sigma8(z=0.00)=0.82\n",
      "sigma8(z=1.35)=0.43\n",
      "compute matter power spectrum using Colossus\n",
      "Set cosmology to  {'flat': True, 'H0': 67.8596, 'Om0': 0.3057076, 'sigma8': 0.8235, 'ns': 0.968376, 'Ob0': 0.04845864}\n",
      "sigma8(z=0.00)=0.82\n",
      "sigma8(z=1.45)=0.42\n",
      "compute matter power spectrum using Colossus\n",
      "Set cosmology to  {'flat': True, 'H0': 67.8596, 'Om0': 0.3057076, 'sigma8': 0.8235, 'ns': 0.968376, 'Ob0': 0.04845864}\n",
      "sigma8(z=0.00)=0.82\n",
      "sigma8(z=1.55)=0.40\n",
      "compute matter power spectrum using Colossus\n",
      "Set cosmology to  {'flat': True, 'H0': 67.8596, 'Om0': 0.3057076, 'sigma8': 0.8235, 'ns': 0.968376, 'Ob0': 0.04845864}\n",
      "sigma8(z=0.00)=0.82\n",
      "sigma8(z=1.65)=0.39\n"
     ]
    }
   ],
   "source": [
    "# ELG\n",
    "\n",
    "z_elg = Dic_ELG['z']\n",
    "Vs_elg = Dic_ELG['Vs']\n",
    "nn_elg = Dic_ELG['nbar']\n",
    "bD_elg = Dic_ELG['bD']\n",
    "\n",
    "params_elg_array = np.zeros((2,z_elg.size)) #np.zeros(zarray.size)\n",
    "err_elg_array = np.zeros((2,z_elg.size)) #np.zeros(zarray.size)\n",
    "cov_bfs8_elg_array = np.zeros((2,2,z_elg.size))\n",
    "for i in range(z_elg.size):\n",
    "    params_elg_array[:,i], _, err_elg_array[:,i], cov_bfs8_elg_array[:,:,i] = fractional_error_on_f(z=z_elg[i], bD=bD_elg, s = 3.5, \n",
    "                                                         nn=nn_elg[i], Vs=Vs_elg[i], kmax=0.1, verbose=False)\n"
   ]
  },
  {
   "cell_type": "code",
   "execution_count": 54,
   "metadata": {},
   "outputs": [
    {
     "data": {
      "text/plain": [
       "<matplotlib.text.Text at 0x7f8d01e3a2d0>"
      ]
     },
     "execution_count": 54,
     "metadata": {},
     "output_type": "execute_result"
    },
    {
     "data": {
      "image/png": "[encoded data removed]",
      "text/plain": [
       "<matplotlib.figure.Figure at 0x7f8ca9d39590>"
      ]
     },
     "metadata": {
      "needs_background": "light"
     },
     "output_type": "display_data"
    }
   ],
   "source": [
    "fig, ax = plt.subplots()\n",
    "ax.plot(zbins, fz_theory * sigma8_array, 'k-', lw=1)\n",
    "\n",
    "#for i in range(zarray.size): \n",
    "ax.errorbar(z_bgs, params_bgs_array[1,:], yerr=err_bgs_array[1,:], fmt='none', color=None, capsize=5, label='DESI BGS')\n",
    "ax.errorbar(z_lrg, params_lrg_array[1,:], yerr=err_lrg_array[1,:], fmt='none', color=None, capsize=5, label='DESI LRG' )\n",
    "ax.errorbar(z_elg+0.02, params_elg_array[1,:], yerr=err_elg_array[1,:], fmt='none', color=None, capsize=5, label='DESI ELG')\n",
    "\n",
    "ax.errorbar(z_eff_bgs, params_bgs[1], yerr=sum_err_bgs[1], fmt='o', color='k', capsize=5)\n",
    "ax.errorbar(z_eff_lrg, params_lrg[1], yerr=sum_err_lrg[1], fmt='o', color='k', capsize=5)\n",
    "ax.errorbar(z_eff_elg, params_elg[1], yerr=sum_err_elg[1], fmt='o', color='k', capsize=5)\n",
    "\n",
    "\n",
    "ax.legend()\n",
    "ax.set_xlim(0,2)\n",
    "ax.set_ylim(0.25, 0.6)\n",
    "ax.set_xlabel('$z$')\n",
    "ax.set_ylabel('$f(z)\\sigma_8 (z)$')\n",
    "#ax.set_ylabel('$f(z)$')"
   ]
  },
  {
   "cell_type": "markdown",
   "metadata": {},
   "source": [
    "# Multi tracers"
   ]
  },
  {
   "cell_type": "code",
   "execution_count": 60,
   "metadata": {},
   "outputs": [],
   "source": [
    "def call_galaxy_sample(z=None, bD=None, f=None, Vs=None, nn=None, kmax=0.1, verbose=True):\n",
    "    \n",
    "    cosmo = class_covariance(z=z, \n",
    "                         KMIN=0.001, KMAX = 5, n=5000, \n",
    "                         b = bD, f = f, s=3.5, nn=nn, Vs=Vs,\n",
    "                         rscale = 'lin', kscale='lin', \n",
    "                         smooth_filter=False)\n",
    "    cosmo.MatterPower(z=z)\n",
    "\n",
    "    if f is None: f = cosmo.compute_fz(z=z)\n",
    "    cosmo.f = f\n",
    "    if verbose: print 'f(z)=',cosmo.f\n",
    "\n",
    "    growth = cosmo.cosmology.growthFactor(z)\n",
    "    cosmo.b = bD/growth\n",
    "\n",
    "    if verbose:\n",
    "        print 'bD(z)=',cosmo.b*growth\n",
    "        print 'b(z={:0.2f})={:0.2f}'.format(cosmo.z, cosmo.b)\n",
    "\n",
    "    Pkmu14 = cosmo.Pkmu(0.14, 1.6)\n",
    "    #Pkmu20 = cosmo.Pkmu(0.2, 0)\n",
    "    if verbose:\n",
    "        print 'nP14={:0.2f}'.format(cosmo.nn * Pkmu14)\n",
    "        #print 'nP20={:0.2f}'.format(cosmo.nn * Pkmu20)\n",
    "        \n",
    "    cosmo.sigma8 = cosmo.compute_sigma8(z=cosmo.z)\n",
    "    \n",
    "    return cosmo"
   ]
  },
  {
   "cell_type": "code",
   "execution_count": 61,
   "metadata": {},
   "outputs": [],
   "source": [
    "def Pkmu_multi_tracer_FisherComputation(cosmo_a, cosmo_b, kmin=None, kmax=None, Nq=2):\n",
    "    \n",
    "    kbin = cosmo_a.kcenter\n",
    "    matrix1, matrix2 = np.mgrid[0:cosmo_a.mulist.size,0:kbin.size]\n",
    "    mumatrix = cosmo_a.mulist[matrix1]\n",
    "    kmatrix = kbin[matrix2]\n",
    "    #P = self.Pband_interp(kbin, self.mulist)\n",
    "    \n",
    "    \n",
    "    \n",
    "    b_a = cosmo_a.b\n",
    "    #f_a = cosmo_a.f\n",
    "    nn_a = cosmo_a.nn\n",
    "    P_a = nn_a* cosmo_a.Pband_interp(kbin, cosmo_a.mulist)\n",
    "    \n",
    "    b_b = cosmo_b.b\n",
    "    #f_b = cosmo_b.f\n",
    "    nn_b = cosmo_b.nn\n",
    "    P_b = nn_b* cosmo_b.Pband_interp(kbin, cosmo_b.mulist)\n",
    "    \n",
    "    # shared parameters\n",
    "    f = cosmo_a.f\n",
    "    PP = [P_a, P_b]\n",
    "    P = P_a + P_b\n",
    "    Vs = cosmo_a.Vs\n",
    "\n",
    "    dlnP_db_a = 2. /(b_a + f * mumatrix**2) \n",
    "    dlnP_df_a = 2. * mumatrix**2 /(b_a+f*mumatrix**2)\n",
    "    dlnP_db_b = 2. /(b_b + f * mumatrix**2) \n",
    "    dlnP_df_b = 2. * mumatrix**2 /(b_b+f*mumatrix**2)\n",
    "    dlnP_dq = [[dlnP_db_a, dlnP_df_a], [dlnP_db_b, dlnP_df_b]]\n",
    "    \n",
    "    #dlnP_dq_b = [dlnP_db_b, dlnP_df_b]\n",
    "    #dlnP_ds =  -1* kmatrix**2 * mumatrix**2 \n",
    "    #dlnP_dq = [dlnP_db_a, dlnP_db_b, ]\n",
    "    \n",
    "    \n",
    "    Veff = Vs # * (self.nn * P/( 1 + self.nn * P))**2\n",
    "    \n",
    "    def delta(i,j):\n",
    "        if i==j: return 1.0\n",
    "        else: return 0.0\n",
    "        \n",
    "    Nq = 4\n",
    "    matrix_muint = np.zeros((Nq, Nq, kbin.size))\n",
    "    prefactor = 2*np.pi*kmatrix**2/(2*np.pi)**3\n",
    "    \n",
    "    for i in range(2):\n",
    "        for j in range(2):\n",
    "            F_ij = 1./4 * ( delta(i,j)*PP[i]*P/(1.+P) + (PP[i]*PP[j]*(1.-P))/(1.+P)**2 )\n",
    "            for k in range(2):\n",
    "                for l in range(2):\n",
    "                    matrix_muint[2*i+k,2*j+l,:] = \\\n",
    "                    1.0 * romberg( prefactor*dlnP_dq[i][k] * F_ij * dlnP_dq[j][l] * Veff, \\\n",
    "                    dx=cosmo_a.dmu, axis=0)\n",
    "    \n",
    "    # masking \n",
    "    if kmin == None : \n",
    "        idx_kmin = 0\n",
    "        idx_kmax = cosmo_a.kbin.size\n",
    "    else : \n",
    "        idx_kmin = get_closest_index_in_data( kmin, cosmo_a.kbin )   \n",
    "        idx_kmax = get_closest_index_in_data( kmax, cosmo_a.kbin )\n",
    "\n",
    "    mask = np.zeros(kbin.size, dtype=bool)\n",
    "    mask[idx_kmin:idx_kmax+1] = 1\n",
    "\n",
    "    Fisher = np.zeros((Nq,Nq))\n",
    "    for i in range(Nq):\n",
    "        for j in range(Nq):\n",
    "            Fisher[i,j] = simpson( matrix_muint[i,j,:][mask], kbin[mask] )\n",
    "    \n",
    "    sigma8 = cosmo_a.sigma8    \n",
    "    #params = np.array([b_a, b_b, f_a, f_b])\n",
    "    params = np.array([b_a, f, b_b, f])\n",
    "    params_sig8 = params * sigma8\n",
    "    \n",
    "    return params_sig8, Fisher/sigma8**2\n",
    "    "
   ]
  },
  {
   "cell_type": "code",
   "execution_count": 62,
   "metadata": {},
   "outputs": [],
   "source": [
    "def _Pkmu_multi_tracer_FisherComputation(cosmo_a, cosmo_b, kmin=None, kmax=None, Nq=2):\n",
    "    \n",
    "    kbin = cosmo_a.kcenter\n",
    "    matrix1, matrix2 = np.mgrid[0:cosmo_a.mulist.size,0:kbin.size]\n",
    "    mumatrix = cosmo_a.mulist[matrix1]\n",
    "    kmatrix = kbin[matrix2]\n",
    "    #P = self.Pband_interp(kbin, self.mulist)\n",
    "    \n",
    "    sigma8 = cosmo_a.sigma8\n",
    "    \n",
    "    b_a = cosmo_a.b\n",
    "    #f_a = cosmo_a.f\n",
    "    nn_a = cosmo_a.nn\n",
    "    P_a = nn_a* cosmo_a.Pband_interp(kbin, cosmo_a.mulist)\n",
    "    \n",
    "    b_b = cosmo_b.b\n",
    "    #f_b = cosmo_b.f\n",
    "    nn_b = cosmo_b.nn\n",
    "    P_b = nn_b* cosmo_b.Pband_interp(kbin, cosmo_b.mulist)\n",
    "    \n",
    "    # shared parameters\n",
    "    f = cosmo_a.f\n",
    "    PP = [P_a, P_b]\n",
    "    P = P_a + P_b\n",
    "    Vs = cosmo_a.Vs\n",
    "\n",
    "    dlnP_db_a = 2. /(b_a + f * mumatrix**2) \n",
    "    dlnP_df_a = 2. * mumatrix**2 /(b_a+2*f*mumatrix**2)\n",
    "    dlnP_db_b = 2. /(b_b + f * mumatrix**2) \n",
    "    dlnP_df_b = 2. * mumatrix**2 /(b_b+2*f*mumatrix**2)\n",
    "    dlnP_dq = [[dlnP_db_a, dlnP_df_a], [dlnP_db_b, dlnP_df_b]]    \n",
    "    \n",
    "    Veff = Vs # * (self.nn * P/( 1 + self.nn * P))**2\n",
    "    \n",
    "    def delta(i,j):\n",
    "        if i==j: return 1.0\n",
    "        else: return 0.0\n",
    "        \n",
    "    Nq = 4\n",
    "    matrix_muint = np.zeros((Nq, Nq, kbin.size))\n",
    "    prefactor = 2*np.pi*kmatrix**2/(2*np.pi)**3\n",
    "    \n",
    "    for i in range(2):\n",
    "        for j in range(2):\n",
    "            F_ij = 1./4 * ( delta(i,j)*PP[i]*P/(1.+P) + (PP[i]*PP[j]*(1.-P))/(1.+P)**2 )\n",
    "            for k in range(2):\n",
    "                for l in range(2):\n",
    "                    #print 2*i+k,2*j+l\n",
    "                    matrix_muint[2*i+k,2*j+l,:] =  \\\n",
    "                    romberg(prefactor* dlnP_dq[i][k] * F_ij * dlnP_dq[j][l] * Veff,\\\n",
    "                                  dx=cosmo_a.dmu, axis=0)\n",
    "    \n",
    "    # masking \n",
    "    if kmin == None : \n",
    "        idx_kmin = 0\n",
    "        idx_kmax = cosmo_a.kbin.size\n",
    "    else : \n",
    "        idx_kmin = get_closest_index_in_data( kmin, cosmo_a.kbin )   \n",
    "        idx_kmax = get_closest_index_in_data( kmax, cosmo_a.kbin )\n",
    "\n",
    "    mask = np.zeros(kbin.size, dtype=bool)\n",
    "    mask[idx_kmin:idx_kmax+1] = 1\n",
    "\n",
    "    Fisher = np.zeros((Nq,Nq))\n",
    "    for i in range(Nq):\n",
    "        for j in range(Nq):\n",
    "            Fisher[i,j] = simpson( matrix_muint[i,j,:][mask], kbin[mask] )\n",
    "\n",
    "    \n",
    "\n",
    "    #Cov_bf = np.linalg.inv(Fisher)\n",
    "    \n",
    "    # projection to three params\n",
    "    \n",
    "    Projection = np.array([[1,0,0,0],[0,0,1,0],[0,1,0,1]])\n",
    "    Fisher_projected = np.dot(np.dot(Projection, Fisher ), Projection.T)\n",
    "    Cov_bf = np.linalg.inv(Fisher_projected)\n",
    "    #return Fisher_projected\n",
    "    #print Fisher_projected\n",
    "    \n",
    "    \n",
    "    \n",
    "    #Cov_bfs8 = np.linalg.inv(Fisher)*sigma8**2\n",
    "    #Fisher_bfs8 = np.linalg.inv(Cov_bfs8)\n",
    "    \n",
    "    \n",
    "    #params = np.array([b_a, f_a, b_b, f_b])\n",
    "    params = np.array([b_a, b_b, f])\n",
    "    params_sig8 = params * sigma8\n",
    "    Cov_bf_sig8 = Cov_bf * sigma8**2\n",
    "    err_bf_sig8 = np.sqrt(Cov_bf_sig8.diagonal())\n",
    "    return params_sig8, err_bf_sig8, Cov_bf_sig8\n",
    "    # integration\n",
    "    \n",
    "    #return params_sig8, Fisher_bfs8 #/sigma8**2\n",
    "    "
   ]
  },
  {
   "cell_type": "code",
   "execution_count": 63,
   "metadata": {},
   "outputs": [],
   "source": [
    "# LRG\n",
    "#z_a = Dic_LRG['z_eff']\n",
    "z_a = Dic_LRG['z']\n",
    "Vs_a = Dic_LRG['Vs']\n",
    "nn_a = Dic_LRG['nbar']\n",
    "bD_a = Dic_LRG['bD']\n",
    "\n",
    "# ELG\n",
    "z_b = Dic_ELG['z']\n",
    "Vs_b = Dic_ELG['Vs']\n",
    "nn_b = Dic_ELG['nbar']\n",
    "bD_b = Dic_ELG['bD']"
   ]
  },
  {
   "cell_type": "code",
   "execution_count": 68,
   "metadata": {
    "collapsed": true
   },
   "outputs": [
    {
     "name": "stdout",
     "output_type": "stream",
     "text": [
      "compute matter power spectrum using Colossus\n",
      "Set cosmology to  planck18\n",
      "f(z)= 0.8026561033652493\n",
      "bD(z)= 1.7\n",
      "b(z=0.65)=2.38\n",
      "nP14=6.51\n",
      "nP20=2.47\n",
      "sigma8(z=0.65)=0.58\n",
      "compute matter power spectrum using Colossus\n",
      "Set cosmology to  planck18\n",
      "f(z)= 0.8026561033652493\n",
      "bD(z)= 1.7\n",
      "b(z=0.65)=2.38\n",
      "nP14=6.51\n",
      "nP20=2.47\n",
      "sigma8(z=0.65)=0.58\n",
      "compute matter power spectrum using Colossus\n",
      "Set cosmology to  planck18\n",
      "f(z)= 0.8277299607606556\n",
      "bD(z)= 1.7\n",
      "b(z=0.75)=2.50\n",
      "nP14=6.39\n",
      "nP20=2.44\n",
      "sigma8(z=0.75)=0.55\n",
      "compute matter power spectrum using Colossus\n",
      "Set cosmology to  planck18\n",
      "f(z)= 0.8277299607606556\n",
      "bD(z)= 1.7\n",
      "b(z=0.75)=2.50\n",
      "nP14=6.39\n",
      "nP20=2.44\n",
      "sigma8(z=0.75)=0.55\n",
      "compute matter power spectrum using Colossus\n",
      "Set cosmology to  planck18\n",
      "f(z)= 0.8488271723733636\n",
      "bD(z)= 1.7000000000000002\n",
      "b(z=0.85)=2.61\n",
      "nP14=3.66\n",
      "nP20=1.42\n",
      "sigma8(z=0.85)=0.53\n",
      "compute matter power spectrum using Colossus\n",
      "Set cosmology to  planck18\n",
      "f(z)= 0.8488271723733636\n",
      "bD(z)= 1.7000000000000002\n",
      "b(z=0.85)=2.61\n",
      "nP14=3.66\n",
      "nP20=1.42\n",
      "sigma8(z=0.85)=0.53\n",
      "compute matter power spectrum using Colossus\n",
      "Set cosmology to  planck18\n",
      "f(z)= 0.866354590152873\n",
      "bD(z)= 1.7\n",
      "b(z=0.95)=2.73\n",
      "nP14=1.32\n",
      "nP20=0.52\n",
      "sigma8(z=0.95)=0.50\n",
      "compute matter power spectrum using Colossus\n",
      "Set cosmology to  planck18\n",
      "f(z)= 0.866354590152873\n",
      "bD(z)= 1.7\n",
      "b(z=0.95)=2.73\n",
      "nP14=1.32\n",
      "nP20=0.52\n",
      "sigma8(z=0.95)=0.50\n",
      "compute matter power spectrum using Colossus\n",
      "Set cosmology to  planck18\n",
      "f(z)= 0.8819546287289031\n",
      "bD(z)= 1.7\n",
      "b(z=1.05)=2.86\n",
      "nP14=0.22\n",
      "nP20=0.09\n",
      "sigma8(z=1.05)=0.48\n",
      "compute matter power spectrum using Colossus\n",
      "Set cosmology to  planck18\n",
      "f(z)= 0.8819546287289031\n",
      "bD(z)= 1.7\n",
      "b(z=1.05)=2.86\n",
      "nP14=0.22\n",
      "nP20=0.09\n",
      "sigma8(z=1.05)=0.48\n",
      "compute matter power spectrum using Colossus\n",
      "Set cosmology to  planck18\n",
      "f(z)= 0.8957708216983375\n",
      "bD(z)= 1.7000000000000002\n",
      "b(z=1.15)=2.98\n",
      "nP14=0.07\n",
      "nP20=0.03\n",
      "sigma8(z=1.15)=0.46\n",
      "compute matter power spectrum using Colossus\n",
      "Set cosmology to  planck18\n",
      "f(z)= 0.8957708216983375\n",
      "bD(z)= 1.7000000000000002\n",
      "b(z=1.15)=2.98\n",
      "nP14=0.07\n",
      "nP20=0.03\n",
      "sigma8(z=1.15)=0.46\n",
      "compute matter power spectrum using Colossus\n",
      "Set cosmology to  planck18\n",
      "f(z)= 0.9077821036872459\n",
      "bD(z)= 1.6999999999999997\n",
      "b(z=1.25)=3.11\n",
      "nP14=0.00\n",
      "nP20=0.00\n",
      "sigma8(z=1.25)=0.44\n",
      "compute matter power spectrum using Colossus\n",
      "Set cosmology to  planck18\n",
      "f(z)= 0.9077821036872459\n",
      "bD(z)= 1.6999999999999997\n",
      "b(z=1.25)=3.11\n",
      "nP14=0.00\n",
      "nP20=0.00\n",
      "sigma8(z=1.25)=0.44\n"
     ]
    },
    {
     "ename": "LinAlgError",
     "evalue": "Singular matrix",
     "output_type": "error",
     "traceback": [
      "\u001b[0;31m---------------------------------------------------------------------------\u001b[0m",
      "\u001b[0;31mLinAlgError\u001b[0m                               Traceback (most recent call last)",
      "\u001b[0;32m<ipython-input-68-014673d2b69e>\u001b[0m in \u001b[0;36m<module>\u001b[0;34m()\u001b[0m\n\u001b[1;32m      8\u001b[0m     \u001b[0mgalaxy_elg\u001b[0m \u001b[0;34m=\u001b[0m \u001b[0mcall_galaxy_sample\u001b[0m\u001b[0;34m(\u001b[0m\u001b[0mz\u001b[0m\u001b[0;34m=\u001b[0m\u001b[0mz_a\u001b[0m\u001b[0;34m[\u001b[0m\u001b[0mi\u001b[0m\u001b[0;34m]\u001b[0m\u001b[0;34m,\u001b[0m \u001b[0mbD\u001b[0m\u001b[0;34m=\u001b[0m\u001b[0mbD_a\u001b[0m\u001b[0;34m,\u001b[0m \u001b[0mf\u001b[0m\u001b[0;34m=\u001b[0m\u001b[0mNone\u001b[0m\u001b[0;34m,\u001b[0m \u001b[0mVs\u001b[0m\u001b[0;34m=\u001b[0m\u001b[0mVs_a\u001b[0m\u001b[0;34m[\u001b[0m\u001b[0mi\u001b[0m\u001b[0;34m]\u001b[0m\u001b[0;34m,\u001b[0m \u001b[0mnn\u001b[0m\u001b[0;34m=\u001b[0m\u001b[0mnn_a\u001b[0m\u001b[0;34m[\u001b[0m\u001b[0mi\u001b[0m\u001b[0;34m]\u001b[0m\u001b[0;34m)\u001b[0m\u001b[0;34m\u001b[0m\u001b[0m\n\u001b[1;32m      9\u001b[0m \u001b[0;34m\u001b[0m\u001b[0m\n\u001b[0;32m---> 10\u001b[0;31m     \u001b[0mparams_cross_bfs8\u001b[0m\u001b[0;34m[\u001b[0m\u001b[0;34m:\u001b[0m\u001b[0;34m,\u001b[0m\u001b[0mi\u001b[0m\u001b[0;34m]\u001b[0m\u001b[0;34m,\u001b[0m \u001b[0merr_cross_bfs8\u001b[0m\u001b[0;34m[\u001b[0m\u001b[0;34m:\u001b[0m\u001b[0;34m,\u001b[0m\u001b[0mi\u001b[0m\u001b[0;34m]\u001b[0m\u001b[0;34m,\u001b[0m \u001b[0mCov_cross_bfs8\u001b[0m\u001b[0;34m[\u001b[0m\u001b[0;34m:\u001b[0m\u001b[0;34m,\u001b[0m\u001b[0;34m:\u001b[0m\u001b[0;34m,\u001b[0m\u001b[0mi\u001b[0m\u001b[0;34m]\u001b[0m \u001b[0;34m=\u001b[0m     \u001b[0mPkmu_multi_tracer_FisherComputation\u001b[0m\u001b[0;34m(\u001b[0m\u001b[0mgalaxy_lrg\u001b[0m\u001b[0;34m,\u001b[0m \u001b[0mgalaxy_elg\u001b[0m\u001b[0;34m,\u001b[0m \u001b[0mkmin\u001b[0m\u001b[0;34m=\u001b[0m\u001b[0;36m0.0001\u001b[0m\u001b[0;34m,\u001b[0m \u001b[0mkmax\u001b[0m\u001b[0;34m=\u001b[0m\u001b[0;36m0.1\u001b[0m\u001b[0;34m,\u001b[0m \u001b[0mNq\u001b[0m\u001b[0;34m=\u001b[0m\u001b[0;36m2\u001b[0m\u001b[0;34m)\u001b[0m\u001b[0;34m\u001b[0m\u001b[0m\n\u001b[0m\u001b[1;32m     11\u001b[0m \u001b[0;34m\u001b[0m\u001b[0m\n",
      "\u001b[0;32m<ipython-input-62-288c544ad622>\u001b[0m in \u001b[0;36mPkmu_multi_tracer_FisherComputation\u001b[0;34m(cosmo_a, cosmo_b, kmin, kmax, Nq)\u001b[0m\n\u001b[1;32m     73\u001b[0m     \u001b[0mProjection\u001b[0m \u001b[0;34m=\u001b[0m \u001b[0mnp\u001b[0m\u001b[0;34m.\u001b[0m\u001b[0marray\u001b[0m\u001b[0;34m(\u001b[0m\u001b[0;34m[\u001b[0m\u001b[0;34m[\u001b[0m\u001b[0;36m1\u001b[0m\u001b[0;34m,\u001b[0m\u001b[0;36m0\u001b[0m\u001b[0;34m,\u001b[0m\u001b[0;36m0\u001b[0m\u001b[0;34m,\u001b[0m\u001b[0;36m0\u001b[0m\u001b[0;34m]\u001b[0m\u001b[0;34m,\u001b[0m\u001b[0;34m[\u001b[0m\u001b[0;36m0\u001b[0m\u001b[0;34m,\u001b[0m\u001b[0;36m0\u001b[0m\u001b[0;34m,\u001b[0m\u001b[0;36m1\u001b[0m\u001b[0;34m,\u001b[0m\u001b[0;36m0\u001b[0m\u001b[0;34m]\u001b[0m\u001b[0;34m,\u001b[0m\u001b[0;34m[\u001b[0m\u001b[0;36m0\u001b[0m\u001b[0;34m,\u001b[0m\u001b[0;36m1\u001b[0m\u001b[0;34m,\u001b[0m\u001b[0;36m0\u001b[0m\u001b[0;34m,\u001b[0m\u001b[0;36m1\u001b[0m\u001b[0;34m]\u001b[0m\u001b[0;34m]\u001b[0m\u001b[0;34m)\u001b[0m\u001b[0;34m\u001b[0m\u001b[0m\n\u001b[1;32m     74\u001b[0m     \u001b[0mFisher_projected\u001b[0m \u001b[0;34m=\u001b[0m \u001b[0mnp\u001b[0m\u001b[0;34m.\u001b[0m\u001b[0mdot\u001b[0m\u001b[0;34m(\u001b[0m\u001b[0mnp\u001b[0m\u001b[0;34m.\u001b[0m\u001b[0mdot\u001b[0m\u001b[0;34m(\u001b[0m\u001b[0mProjection\u001b[0m\u001b[0;34m,\u001b[0m \u001b[0mFisher\u001b[0m \u001b[0;34m)\u001b[0m\u001b[0;34m,\u001b[0m \u001b[0mProjection\u001b[0m\u001b[0;34m.\u001b[0m\u001b[0mT\u001b[0m\u001b[0;34m)\u001b[0m\u001b[0;34m\u001b[0m\u001b[0m\n\u001b[0;32m---> 75\u001b[0;31m     \u001b[0mCov_bf\u001b[0m \u001b[0;34m=\u001b[0m \u001b[0mnp\u001b[0m\u001b[0;34m.\u001b[0m\u001b[0mlinalg\u001b[0m\u001b[0;34m.\u001b[0m\u001b[0minv\u001b[0m\u001b[0;34m(\u001b[0m\u001b[0mFisher_projected\u001b[0m\u001b[0;34m)\u001b[0m\u001b[0;34m\u001b[0m\u001b[0m\n\u001b[0m\u001b[1;32m     76\u001b[0m     \u001b[0;31m#return Fisher_projected\u001b[0m\u001b[0;34m\u001b[0m\u001b[0;34m\u001b[0m\u001b[0m\n\u001b[1;32m     77\u001b[0m     \u001b[0;31m#print Fisher_projected\u001b[0m\u001b[0;34m\u001b[0m\u001b[0;34m\u001b[0m\u001b[0m\n",
      "\u001b[0;32m/home/lee.5922/.local/lib/python2.7/site-packages/numpy/linalg/linalg.pyc\u001b[0m in \u001b[0;36minv\u001b[0;34m(a)\u001b[0m\n\u001b[1;32m    549\u001b[0m     \u001b[0msignature\u001b[0m \u001b[0;34m=\u001b[0m \u001b[0;34m'D->D'\u001b[0m \u001b[0;32mif\u001b[0m \u001b[0misComplexType\u001b[0m\u001b[0;34m(\u001b[0m\u001b[0mt\u001b[0m\u001b[0;34m)\u001b[0m \u001b[0;32melse\u001b[0m \u001b[0;34m'd->d'\u001b[0m\u001b[0;34m\u001b[0m\u001b[0m\n\u001b[1;32m    550\u001b[0m     \u001b[0mextobj\u001b[0m \u001b[0;34m=\u001b[0m \u001b[0mget_linalg_error_extobj\u001b[0m\u001b[0;34m(\u001b[0m\u001b[0m_raise_linalgerror_singular\u001b[0m\u001b[0;34m)\u001b[0m\u001b[0;34m\u001b[0m\u001b[0m\n\u001b[0;32m--> 551\u001b[0;31m     \u001b[0mainv\u001b[0m \u001b[0;34m=\u001b[0m \u001b[0m_umath_linalg\u001b[0m\u001b[0;34m.\u001b[0m\u001b[0minv\u001b[0m\u001b[0;34m(\u001b[0m\u001b[0ma\u001b[0m\u001b[0;34m,\u001b[0m \u001b[0msignature\u001b[0m\u001b[0;34m=\u001b[0m\u001b[0msignature\u001b[0m\u001b[0;34m,\u001b[0m \u001b[0mextobj\u001b[0m\u001b[0;34m=\u001b[0m\u001b[0mextobj\u001b[0m\u001b[0;34m)\u001b[0m\u001b[0;34m\u001b[0m\u001b[0m\n\u001b[0m\u001b[1;32m    552\u001b[0m     \u001b[0;32mreturn\u001b[0m \u001b[0mwrap\u001b[0m\u001b[0;34m(\u001b[0m\u001b[0mainv\u001b[0m\u001b[0;34m.\u001b[0m\u001b[0mastype\u001b[0m\u001b[0;34m(\u001b[0m\u001b[0mresult_t\u001b[0m\u001b[0;34m,\u001b[0m \u001b[0mcopy\u001b[0m\u001b[0;34m=\u001b[0m\u001b[0mFalse\u001b[0m\u001b[0;34m)\u001b[0m\u001b[0;34m)\u001b[0m\u001b[0;34m\u001b[0m\u001b[0m\n\u001b[1;32m    553\u001b[0m \u001b[0;34m\u001b[0m\u001b[0m\n",
      "\u001b[0;32m/home/lee.5922/.local/lib/python2.7/site-packages/numpy/linalg/linalg.pyc\u001b[0m in \u001b[0;36m_raise_linalgerror_singular\u001b[0;34m(err, flag)\u001b[0m\n\u001b[1;32m     95\u001b[0m \u001b[0;34m\u001b[0m\u001b[0m\n\u001b[1;32m     96\u001b[0m \u001b[0;32mdef\u001b[0m \u001b[0m_raise_linalgerror_singular\u001b[0m\u001b[0;34m(\u001b[0m\u001b[0merr\u001b[0m\u001b[0;34m,\u001b[0m \u001b[0mflag\u001b[0m\u001b[0;34m)\u001b[0m\u001b[0;34m:\u001b[0m\u001b[0;34m\u001b[0m\u001b[0m\n\u001b[0;32m---> 97\u001b[0;31m     \u001b[0;32mraise\u001b[0m \u001b[0mLinAlgError\u001b[0m\u001b[0;34m(\u001b[0m\u001b[0;34m\"Singular matrix\"\u001b[0m\u001b[0;34m)\u001b[0m\u001b[0;34m\u001b[0m\u001b[0m\n\u001b[0m\u001b[1;32m     98\u001b[0m \u001b[0;34m\u001b[0m\u001b[0m\n\u001b[1;32m     99\u001b[0m \u001b[0;32mdef\u001b[0m \u001b[0m_raise_linalgerror_nonposdef\u001b[0m\u001b[0;34m(\u001b[0m\u001b[0merr\u001b[0m\u001b[0;34m,\u001b[0m \u001b[0mflag\u001b[0m\u001b[0;34m)\u001b[0m\u001b[0;34m:\u001b[0m\u001b[0;34m\u001b[0m\u001b[0m\n",
      "\u001b[0;31mLinAlgError\u001b[0m: Singular matrix"
     ]
    }
   ],
   "source": [
    "params_cross_bfs8 = np.zeros((3, z_a.size))\n",
    "err_cross_bfs8 = np.zeros((3, z_a.size))\n",
    "Cov_cross_bfs8 = np.zeros((3,3,z_a.size))\n",
    "Fisher_cross_bfs8 = np.zeros((3,3,z_a.size))\n",
    "\n",
    "for i in range(z_a.size):\n",
    "    galaxy_lrg = call_galaxy_sample(z=z_a[i], bD=bD_a, f=None, Vs=Vs_a[i], nn=nn_a[i])\n",
    "    galaxy_elg = call_galaxy_sample(z=z_a[i], bD=bD_a, f=None, Vs=Vs_a[i], nn=nn_a[i])\n",
    "    \n",
    "    params_cross_bfs8[:,i], err_cross_bfs8[:,i], Cov_cross_bfs8[:,:,i] = \\\n",
    "    _Pkmu_multi_tracer_FisherComputation(galaxy_lrg, galaxy_elg, kmin=0.0001, kmax=0.1, Nq=2)\n",
    "    "
   ]
  },
  {
   "cell_type": "code",
   "execution_count": 64,
   "metadata": {
    "scrolled": true
   },
   "outputs": [
    {
     "name": "stdout",
     "output_type": "stream",
     "text": [
      "compute matter power spectrum using Colossus\n",
      "Set cosmology to  {'flat': True, 'H0': 67.8596, 'Om0': 0.3057076, 'sigma8': 0.8235, 'ns': 0.968376, 'Ob0': 0.04845864}\n",
      "f(z)= 0.7989430790268816\n",
      "bD(z)= 1.7\n",
      "b(z=0.65)=2.37\n",
      "nP14=6.72\n",
      "sigma8(z=0.65)=0.59\n",
      "compute matter power spectrum using Colossus\n",
      "Set cosmology to  {'flat': True, 'H0': 67.8596, 'Om0': 0.3057076, 'sigma8': 0.8235, 'ns': 0.968376, 'Ob0': 0.04845864}\n",
      "f(z)= 0.7989430790268816\n",
      "bD(z)= 0.84\n",
      "b(z=0.65)=1.17\n",
      "nP14=0.96\n",
      "sigma8(z=0.65)=0.59\n",
      "compute matter power spectrum using Colossus\n",
      "Set cosmology to  {'flat': True, 'H0': 67.8596, 'Om0': 0.3057076, 'sigma8': 0.8235, 'ns': 0.968376, 'Ob0': 0.04845864}\n",
      "f(z)= 0.8243328441349451\n",
      "bD(z)= 1.7\n",
      "b(z=0.75)=2.49\n",
      "nP14=6.59\n",
      "sigma8(z=0.75)=0.56\n",
      "compute matter power spectrum using Colossus\n",
      "Set cosmology to  {'flat': True, 'H0': 67.8596, 'Om0': 0.3057076, 'sigma8': 0.8235, 'ns': 0.968376, 'Ob0': 0.04845864}\n",
      "f(z)= 0.8243328441349451\n",
      "bD(z)= 0.84\n",
      "b(z=0.75)=1.23\n",
      "nP14=5.83\n",
      "sigma8(z=0.75)=0.56\n",
      "compute matter power spectrum using Colossus\n",
      "Set cosmology to  {'flat': True, 'H0': 67.8596, 'Om0': 0.3057076, 'sigma8': 0.8235, 'ns': 0.968376, 'Ob0': 0.04845864}\n",
      "f(z)= 0.8457353258402031\n",
      "bD(z)= 1.7\n",
      "b(z=0.85)=2.61\n",
      "nP14=3.78\n",
      "sigma8(z=0.85)=0.54\n",
      "compute matter power spectrum using Colossus\n",
      "Set cosmology to  {'flat': True, 'H0': 67.8596, 'Om0': 0.3057076, 'sigma8': 0.8235, 'ns': 0.968376, 'Ob0': 0.04845864}\n",
      "f(z)= 0.8457353258402031\n",
      "bD(z)= 0.84\n",
      "b(z=0.85)=1.29\n",
      "nP14=4.19\n",
      "sigma8(z=0.85)=0.54\n",
      "compute matter power spectrum using Colossus\n",
      "Set cosmology to  {'flat': True, 'H0': 67.8596, 'Om0': 0.3057076, 'sigma8': 0.8235, 'ns': 0.968376, 'Ob0': 0.04845864}\n",
      "f(z)= 0.8635568217586089\n",
      "bD(z)= 1.7\n",
      "b(z=0.95)=2.73\n",
      "nP14=1.37\n",
      "sigma8(z=0.95)=0.51\n",
      "compute matter power spectrum using Colossus\n",
      "Set cosmology to  {'flat': True, 'H0': 67.8596, 'Om0': 0.3057076, 'sigma8': 0.8235, 'ns': 0.968376, 'Ob0': 0.04845864}\n",
      "f(z)= 0.8635568217586089\n",
      "bD(z)= 0.8400000000000001\n",
      "b(z=0.95)=1.35\n",
      "nP14=3.99\n",
      "sigma8(z=0.95)=0.51\n",
      "compute matter power spectrum using Colossus\n",
      "Set cosmology to  {'flat': True, 'H0': 67.8596, 'Om0': 0.3057076, 'sigma8': 0.8235, 'ns': 0.968376, 'Ob0': 0.04845864}\n",
      "f(z)= 0.8794273613454378\n",
      "bD(z)= 1.7\n",
      "b(z=1.05)=2.85\n",
      "nP14=0.23\n",
      "sigma8(z=1.05)=0.49\n",
      "compute matter power spectrum using Colossus\n",
      "Set cosmology to  {'flat': True, 'H0': 67.8596, 'Om0': 0.3057076, 'sigma8': 0.8235, 'ns': 0.968376, 'Ob0': 0.04845864}\n",
      "f(z)= 0.8794273613454378\n",
      "bD(z)= 0.84\n",
      "b(z=1.05)=1.41\n",
      "nP14=2.44\n",
      "sigma8(z=1.05)=0.49\n",
      "compute matter power spectrum using Colossus\n",
      "Set cosmology to  {'flat': True, 'H0': 67.8596, 'Om0': 0.3057076, 'sigma8': 0.8235, 'ns': 0.968376, 'Ob0': 0.04845864}\n",
      "f(z)= 0.893489208249598\n",
      "bD(z)= 1.7\n",
      "b(z=1.15)=2.97\n",
      "nP14=0.07\n",
      "sigma8(z=1.15)=0.47\n",
      "compute matter power spectrum using Colossus\n",
      "Set cosmology to  {'flat': True, 'H0': 67.8596, 'Om0': 0.3057076, 'sigma8': 0.8235, 'ns': 0.968376, 'Ob0': 0.04845864}\n",
      "f(z)= 0.893489208249598\n",
      "bD(z)= 0.84\n",
      "b(z=1.15)=1.47\n",
      "nP14=2.08\n",
      "sigma8(z=1.15)=0.47\n",
      "compute matter power spectrum using Colossus\n",
      "Set cosmology to  {'flat': True, 'H0': 67.8596, 'Om0': 0.3057076, 'sigma8': 0.8235, 'ns': 0.968376, 'Ob0': 0.04845864}\n",
      "f(z)= 0.9057210209488218\n",
      "bD(z)= 1.7\n",
      "b(z=1.25)=3.10\n",
      "nP14=0.00\n",
      "sigma8(z=1.25)=0.45\n",
      "compute matter power spectrum using Colossus\n",
      "Set cosmology to  {'flat': True, 'H0': 67.8596, 'Om0': 0.3057076, 'sigma8': 0.8235, 'ns': 0.968376, 'Ob0': 0.04845864}\n",
      "f(z)= 0.9057210209488218\n",
      "bD(z)= 0.84\n",
      "b(z=1.25)=1.53\n",
      "nP14=1.88\n",
      "sigma8(z=1.25)=0.45\n",
      "compute matter power spectrum using Colossus\n",
      "Set cosmology to  {'flat': True, 'H0': 67.8596, 'Om0': 0.3057076, 'sigma8': 0.8235, 'ns': 0.968376, 'Ob0': 0.04845864}\n",
      "f(z)= 0.9160976946809266\n",
      "bD(z)= 1.7\n",
      "b(z=1.35)=3.22\n",
      "nP14=0.00\n",
      "sigma8(z=1.35)=0.43\n",
      "compute matter power spectrum using Colossus\n",
      "Set cosmology to  {'flat': True, 'H0': 67.8596, 'Om0': 0.3057076, 'sigma8': 0.8235, 'ns': 0.968376, 'Ob0': 0.04845864}\n",
      "f(z)= 0.9160976946809266\n",
      "bD(z)= 0.84\n",
      "b(z=1.35)=1.59\n",
      "nP14=0.68\n",
      "sigma8(z=1.35)=0.43\n",
      "compute matter power spectrum using Colossus\n",
      "Set cosmology to  {'flat': True, 'H0': 67.8596, 'Om0': 0.3057076, 'sigma8': 0.8235, 'ns': 0.968376, 'Ob0': 0.04845864}\n",
      "f(z)= 0.9246105568151844\n",
      "bD(z)= 1.7\n",
      "b(z=1.45)=3.35\n",
      "nP14=0.00\n",
      "sigma8(z=1.45)=0.42\n",
      "compute matter power spectrum using Colossus\n",
      "Set cosmology to  {'flat': True, 'H0': 67.8596, 'Om0': 0.3057076, 'sigma8': 0.8235, 'ns': 0.968376, 'Ob0': 0.04845864}\n",
      "f(z)= 0.9246105568151844\n",
      "bD(z)= 0.84\n",
      "b(z=1.45)=1.65\n",
      "nP14=0.57\n",
      "sigma8(z=1.45)=0.42\n",
      "compute matter power spectrum using Colossus\n",
      "Set cosmology to  {'flat': True, 'H0': 67.8596, 'Om0': 0.3057076, 'sigma8': 0.8235, 'ns': 0.968376, 'Ob0': 0.04845864}\n",
      "f(z)= 0.9320295263003928\n",
      "bD(z)= 1.7\n",
      "b(z=1.55)=3.47\n",
      "nP14=0.00\n",
      "sigma8(z=1.55)=0.40\n",
      "compute matter power spectrum using Colossus\n",
      "Set cosmology to  {'flat': True, 'H0': 67.8596, 'Om0': 0.3057076, 'sigma8': 0.8235, 'ns': 0.968376, 'Ob0': 0.04845864}\n",
      "f(z)= 0.9320295263003928\n",
      "bD(z)= 0.84\n",
      "b(z=1.55)=1.72\n",
      "nP14=0.38\n",
      "sigma8(z=1.55)=0.40\n",
      "compute matter power spectrum using Colossus\n",
      "Set cosmology to  {'flat': True, 'H0': 67.8596, 'Om0': 0.3057076, 'sigma8': 0.8235, 'ns': 0.968376, 'Ob0': 0.04845864}\n",
      "f(z)= 0.9387744789037584\n",
      "bD(z)= 1.7\n",
      "b(z=1.65)=3.60\n",
      "nP14=0.00\n",
      "sigma8(z=1.65)=0.39\n",
      "compute matter power spectrum using Colossus\n",
      "Set cosmology to  {'flat': True, 'H0': 67.8596, 'Om0': 0.3057076, 'sigma8': 0.8235, 'ns': 0.968376, 'Ob0': 0.04845864}\n",
      "f(z)= 0.9387744789037584\n",
      "bD(z)= 0.84\n",
      "b(z=1.65)=1.78\n",
      "nP14=0.14\n",
      "sigma8(z=1.65)=0.39\n"
     ]
    }
   ],
   "source": [
    "Nq = 4\n",
    "params_cross_bfs8 = np.zeros((Nq, z_a.size))\n",
    "#err_cross_bfs8 = np.zeros((Nq, z_a.size))\n",
    "Fisher_cross_bfs8 = np.zeros((Nq,Nq,z_a.size))\n",
    "Cov_cross_bfs8_array = np.zeros((3,3,z_a.size))\n",
    "err_cross_bfs8_array = np.zeros((3, z_a.size))\n",
    "\n",
    "for i in range(z_b.size): #z_a.size):\n",
    "    galaxy_lrg = call_galaxy_sample(z=z_a[i], bD=bD_a, f=None, Vs=Vs_a[i], nn=nn_a[i])\n",
    "    galaxy_elg = call_galaxy_sample(z=z_b[i], bD=bD_b, f=None, Vs=Vs_b[i], nn=nn_b[i])\n",
    "    \n",
    "    params_cross_bfs8[:,i], Fisher_cross_bfs8[:,:,i] = \\\n",
    "    Pkmu_multi_tracer_FisherComputation(galaxy_lrg, galaxy_elg, kmin=0.0001, kmax=0.1, Nq=2)\n",
    "    \n",
    "    Projection = np.array([[1,0,0,0],[0,0,1,0],[0,1,0,1]])\n",
    "    Fisher = np.dot(np.dot(Projection, Fisher_cross_bfs8[:,:,i] ), Projection.T)\n",
    "    \n",
    "    if galaxy_lrg.nn == 0: mask = np.outer(np.array([0,1,1], dtype=bool),np.array([0,1,1], dtype=bool))\n",
    "    elif galaxy_elg.nn == 0: mask = np.outer(np.array([1,0,1], dtype=bool),np.array([1,0,1], dtype=bool))\n",
    "    else: mask = np.ones((3,3), dtype=bool)\n",
    "        \n",
    "    #masked_Fisher = Fisher[mask]\n",
    "    Np = int(np.sqrt(np.sum(mask)))\n",
    "    Covcut = np.linalg.inv(Fisher[mask].reshape(Np,Np))\n",
    "    Cov = np.full((3,3), np.nan)\n",
    "    Cov[mask] = Covcut.ravel()\n",
    "    \n",
    "    #Cov = np.linalg.inv(Fisher)\n",
    "    Cov_cross_bfs8_array[:,:,i] = Cov    \n",
    "    err_cross_bfs8_array[:,i] = np.sqrt( Cov.diagonal())"
   ]
  },
  {
   "cell_type": "code",
   "execution_count": 66,
   "metadata": {},
   "outputs": [],
   "source": [
    "sum_Fisher_cross_bfs8 = np.sum(Fisher_cross_bfs8, axis=-1)\n",
    "sum_Cov_cross_bfs8 = np.linalg.inv(sum_Fisher_cross_bfs8)\n",
    "sum_err_cross_bfs8 = np.sqrt(sum_Cov_cross_bfs8.diagonal() )"
   ]
  },
  {
   "cell_type": "code",
   "execution_count": 87,
   "metadata": {},
   "outputs": [
    {
     "data": {
      "text/plain": [
       "<matplotlib.text.Text at 0x7f8c9f57e2d0>"
      ]
     },
     "execution_count": 87,
     "metadata": {},
     "output_type": "execute_result"
    },
    {
     "data": {
      "image/png": "[encoded data removed]",
      "text/plain": [
       "<matplotlib.figure.Figure at 0x7f8d18589110>"
      ]
     },
     "metadata": {
      "needs_background": "light"
     },
     "output_type": "display_data"
    }
   ],
   "source": [
    "fig, ax = plt.subplots(figsize=(7,5))\n",
    "ax.plot(zbins, fz_theory * sigma8_array, 'k-', lw=1)\n",
    "\n",
    "#for i in range(zarray.size): \n",
    "ax.errorbar(z_bgs, params_bgs_array[1,:], yerr=err_bgs_array[1,:], fmt='none', color=None, capsize=5, label='DESI BGS')\n",
    "ax.errorbar(z_lrg, params_lrg_array[1,:], yerr=err_lrg_array[1,:], fmt='none', color=None, capsize=5, label='DESI LRG' )\n",
    "ax.errorbar(z_elg+0.02, params_elg_array[1,:], yerr=err_elg_array[1,:], fmt='none', color=None, capsize=5, label='DESI ELG')\n",
    "\n",
    "ax.errorbar(z_eff_bgs, params_bgs[1], yerr=sum_err_bgs[1], fmt='o', color='k', capsize=5)\n",
    "#ax.errorbar(z_eff_lrg, params_lrg[1], yerr=sum_err_lrg[1], fmt='o', color='k', capsize=5)\n",
    "#ax.errorbar(z_eff_elg, params_elg[1], yerr=sum_err_elg[1], fmt='o', color='k', capsize=5)\n",
    "\n",
    "\n",
    "#ax.errorbar(z_a, params_cross_bfs8[1,:], yerr=err_cross_bfs8[1,:], fmt='none', color='red', capsize=5, label='DESI LRGxELG' )\n",
    "ax.errorbar(z_a, params_cross_bfs8[3,:], yerr=err_cross_bfs8_array[2,:], fmt='none', color='red', capsize=5, label='DESI LRGxELG' )\n",
    "\n",
    "ax.errorbar(z_eff_lrg, params_lrg[1], yerr=sum_err_cross_bfs8[1], fmt='o', color='k', capsize=5)\n",
    "ax.errorbar(z_eff_elg, params_elg[1], yerr=sum_err_cross_bfs8[3], fmt='o', color='k', capsize=5)\n",
    "\n",
    "\n",
    "ax.legend(fontsize=14, loc=1)\n",
    "ax.tick_params(labelsize=18)\n",
    "ax.set_xlim(0,2)\n",
    "ax.set_ylim(0.25, 0.6)\n",
    "ax.set_xlabel('$z$', size=18)\n",
    "ax.set_ylabel('$f(z)\\sigma_8 (z)$', size=18)\n",
    "#ax.set_ylabel('$f(z)$')"
   ]
  },
  {
   "cell_type": "code",
   "execution_count": 90,
   "metadata": {},
   "outputs": [
    {
     "data": {
      "text/plain": [
       "array([0.00303777, 0.00703995, 0.00132418, 0.00331526])"
      ]
     },
     "execution_count": 90,
     "metadata": {},
     "output_type": "execute_result"
    }
   ],
   "source": [
    "sum_err_cross_bfs8"
   ]
  },
  {
   "cell_type": "code",
   "execution_count": 91,
   "metadata": {},
   "outputs": [
    {
     "name": "stdout",
     "output_type": "stream",
     "text": [
      "name             :   bgs |   lrg |   elg\n",
      "redshift         : 0.19  | 0.77  | 1.02 \n",
      "Auto FracError f : 3.27% | 1.93% | 0.77%\n",
      "Full FracError f : 3.27% | 1.52% | 0.76%\n",
      "\n",
      "Auto FracError b : 0.55% | 0.26% | 0.20%\n",
      "Full FracError b : 0.55% | 0.22% | 0.19%\n",
      "\n",
      "bsigma8   : 1.10350 | 1.39996 | 0.69175\n",
      "fsigma8   : 0.46508 | 0.46183 | 0.43600\n"
     ]
    }
   ],
   "source": [
    "# Error of each sample\n",
    "print 'name             :   bgs |   lrg |   elg'\n",
    "print 'redshift         : {:0.2f}  | {:0.2f}  | {:0.2f} '.format(z_eff_bgs, z_eff_lrg, z_eff_elg)\n",
    "print 'Auto FracError f : {:0.2f}% | {:0.2f}% | {:0.2f}%'.format(sum_err_bgs[1]*100/params_bgs[1], sum_err_lrg[1]*100/params_lrg[1], sum_err_elg[1]*100/params_elg[1])\n",
    "print 'Full FracError f : {:0.2f}% | {:0.2f}% | {:0.2f}%'.format(sum_err_bgs[1]*100/params_bgs[1], sum_err_cross_bfs8[1]*100/params_lrg[1], sum_err_cross_bfs8[3]*100/params_elg[1])\n",
    "print ''\n",
    "print 'Auto FracError b : {:0.2f}% | {:0.2f}% | {:0.2f}%'.format(sum_err_bgs[0]*100/params_bgs[0], sum_err_lrg[0]*100/params_lrg[0], sum_err_elg[0]*100/params_elg[0])\n",
    "print 'Full FracError b : {:0.2f}% | {:0.2f}% | {:0.2f}%'.format(sum_err_bgs[0]*100/params_bgs[0], sum_err_cross_bfs8[0]*100/params_lrg[0], sum_err_cross_bfs8[2]*100/params_elg[0])\n",
    "print ''\n",
    "print 'bsigma8   : {:0.5f} | {:0.5f} | {:0.5f}'.format(params_bgs[0], params_lrg[0], params_elg[0])\n",
    "print 'fsigma8   : {:0.5f} | {:0.5f} | {:0.5f}'.format(params_bgs[1], params_lrg[1], params_elg[1])\n",
    "\n",
    "\n"
   ]
  },
  {
   "cell_type": "code",
   "execution_count": 69,
   "metadata": {},
   "outputs": [],
   "source": [
    "FullCov = np.zeros((6,6))\n",
    "FullCov[:2,:2] =sum_cov_bfs8_bgs\n",
    "FullCov[2:,2:] = sum_Cov_cross_bfs8 "
   ]
  },
  {
   "cell_type": "code",
   "execution_count": 86,
   "metadata": {},
   "outputs": [
    {
     "data": {
      "image/png": "[encoded data removed]",
      "text/plain": [
       "<matplotlib.figure.Figure at 0x7f8ca9a89f50>"
      ]
     },
     "metadata": {
      "needs_background": "light"
     },
     "output_type": "display_data"
    }
   ],
   "source": [
    "fig, ax = plt.subplots()\n",
    "im = ax.imshow(FullCov*10**6, cmap='RdBu', vmax=120, vmin=-120)\n",
    "cbar = fig.colorbar(im, ax=ax )\n",
    "cbar.set_label('$C_{ij}$ x $10^6$', size=15)\n",
    "\n",
    "ax.tick_params(which='both', size=0)\n",
    "ax.set_xticklabels([ '$b_1$','$f_1$', '$b_2$', '$f_2$', '$b_3$' , '$f_3$' ], size=15)\n",
    "ax.set_yticklabels([ '$b_1$','$f_1$', '$b_2$', '$f_2$', '$b_3$' , '$f_3$' ], size=15)\n",
    "\n",
    "# Minor ticks\n",
    "ax.set_xticks(np.arange(0,6,1))\n",
    "ax.set_yticks(np.arange(0,6,1))\n",
    "\n",
    "ax.set_xticks(np.arange(-.5, 6, 1), minor=True)\n",
    "ax.set_yticks(np.arange(-.5, 6, 1), minor=True)\n",
    "#ax.set_xlim(-0.5,5.5)\n",
    "ax.grid(which='minor', color='w', linestyle='-', linewidth=2)\n",
    "\n",
    "\n",
    "for (j,i),value in np.ndenumerate(FullCov*10**6):\n",
    "    label = '${:0.1f}$'.format(value)\n",
    "    ax.text(i,j,label,ha='center',va='center')\n"
   ]
  },
  {
   "cell_type": "code",
   "execution_count": 71,
   "metadata": {},
   "outputs": [],
   "source": [
    "params_datav = np.array( [params_bgs, params_lrg, params_elg]).reshape(6,1)"
   ]
  },
  {
   "cell_type": "code",
   "execution_count": 72,
   "metadata": {},
   "outputs": [],
   "source": [
    "comments = 'z1={:0.2f}\\nz2={:0.2f}\\nz3={:0.2f}'.format(z_eff_bgs, z_eff_lrg, z_eff_elg)\n",
    "comments += '\\nb1, f1, b2, f2, b3, f3'"
   ]
  },
  {
   "cell_type": "code",
   "execution_count": 73,
   "metadata": {},
   "outputs": [],
   "source": [
    "savedir = '/n/des/lee.5922/programs/cosmolike/LSST-forecasts/data/'\n",
    "filename_cov = savedir+'cov_DESI_BGS_LRGxELG.txt'\n",
    "filename_dv = savedir+'simulated_datav_DESI_BGS_LRGxELG.txt'\n",
    "\n",
    "np.savetxt(filename_dv, params_datav, delimiter=' ', header=comments)\n",
    "np.savetxt(filename_cov, FullCov, delimiter=' ', header=comments)"
   ]
  },
  {
   "cell_type": "markdown",
   "metadata": {},
   "source": [
    "### Number density per arcmin^2"
   ]
  },
  {
   "cell_type": "code",
   "execution_count": 287,
   "metadata": {},
   "outputs": [
    {
     "name": "stdout",
     "output_type": "stream",
     "text": [
      "0.19444444444444445\n",
      "0.07833333333333332\n",
      "0.33805555555555544\n"
     ]
    }
   ],
   "source": [
    "print Dic_BGS['nbar_area']/3600\n",
    "print Dic_LRG['nbar_area']/3600\n",
    "print Dic_ELG['nbar_area']/3600"
   ]
  },
  {
   "cell_type": "code",
   "execution_count": null,
   "metadata": {},
   "outputs": [],
   "source": []
  }
 ],
 "metadata": {
  "kernelspec": {
   "display_name": "'Python Interactive'",
   "language": "python",
   "name": "eced215a-377d-4b9b-b5c2-123586875d72"
  },
  "language_info": {
   "codemirror_mode": {
    "name": "ipython",
    "version": 2
   },
   "file_extension": ".py",
   "mimetype": "text/x-python",
   "name": "python",
   "nbconvert_exporter": "python",
   "pygments_lexer": "ipython2",
   "version": "2.7.5"
  }
 },
 "nbformat": 4,
 "nbformat_minor": 2
}
