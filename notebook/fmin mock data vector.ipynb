{
 "cells": [
  {
   "cell_type": "code",
   "execution_count": 1,
   "metadata": {},
   "outputs": [],
   "source": [
    "import numpy as np\n",
    "import matplotlib\n",
    "import matplotlib.pyplot as plt\n",
    "\n",
    "import sys\n",
    "sys.path.append('../')\n",
    "sys.path.append('../src/')\n",
    "#sys.path.append('/n/des/lee.5922/programs/cosmolike/MG_musigma/')\n",
    "from discrete import *\n",
    "from mock_test import *\n",
    "#from run_error_analysis import *\n",
    "#from plot_chain import plot_single, plot_triple, plot_distributions, plot_summary_bar\n",
    "%matplotlib inline\n",
    "\n",
    "%load_ext autoreload\n",
    "%autoreload 2"
   ]
  },
  {
   "cell_type": "code",
   "execution_count": 2,
   "metadata": {},
   "outputs": [],
   "source": [
    "#mockdir = '../data_txt/mocks_multipole/kbin200_r10/'\n",
    "mockdir = '../data_txt/mocks_multipole/kbin200_r100_Satpathy_fineFourier/'\n",
    "#mockdir = '../data_txt/mocks_multipole/kbin200_fineFourier/'"
   ]
  },
  {
   "cell_type": "code",
   "execution_count": 9,
   "metadata": {},
   "outputs": [],
   "source": [
    "kcenter, mock_p0 = load_mocks( dir = mockdir+'/0/', probe='p' )\n",
    "kcenter, mock_p2 = load_mocks( dir = mockdir+'/2/', probe='p' )\n",
    "kcenter, mock_p4 = load_mocks( dir = mockdir+'/4/', probe='p' )\n",
    "\n",
    "rcenter, mock_x0 = load_mocks( dir = mockdir+'/0/', probe='xi' )\n",
    "rcenter, mock_x2 = load_mocks( dir = mockdir+'/2/', probe='xi' )\n",
    "rcenter, mock_x4 = load_mocks( dir = mockdir+'/4/', probe='xi' )\n",
    "\n",
    "r_cut = rcenter[25:-12]\n",
    "mock_x0_cut = [ x0[25:-12] for x0 in mock_x0 ]\n",
    "mock_x2_cut = [ x2[25:-12] for x2 in mock_x2 ]\n",
    "mock_x4_cut = [ x4[25:-12] for x4 in mock_x4 ]"
   ]
  },
  {
   "cell_type": "code",
   "execution_count": 8,
   "metadata": {},
   "outputs": [
    {
     "data": {
      "text/plain": [
       "array([149.000255, 147.000265, 145.000275, 143.000285, 141.000295,\n",
       "       139.000305, 137.000315, 135.000325, 133.000335, 131.000345,\n",
       "       129.000355, 127.000365, 125.000375, 123.000385, 121.000395,\n",
       "       119.000405, 117.000415, 115.000425, 113.000435, 111.000445,\n",
       "       109.000455, 107.000465, 105.000475, 103.000485, 101.000495,\n",
       "        99.000505,  97.000515,  95.000525,  93.000535,  91.000545,\n",
       "        89.000555,  87.000565,  85.000575,  83.000585,  81.000595,\n",
       "        79.000605,  77.000615,  75.000625,  73.000635,  71.000645,\n",
       "        69.000655,  67.000665,  65.000675,  63.000685,  61.000695,\n",
       "        59.000705,  57.000715,  55.000725,  53.000735,  51.000745,\n",
       "        49.000755,  47.000765,  45.000775,  43.000785,  41.000795,\n",
       "        39.000805,  37.000815,  35.000825,  33.000835,  31.000845,\n",
       "        29.000855,  27.000865,  25.000875])"
      ]
     },
     "execution_count": 8,
     "metadata": {},
     "output_type": "execute_result"
    }
   ],
   "source": [
    "rcenter[25:-12]"
   ]
  },
  {
   "cell_type": "code",
   "execution_count": 10,
   "metadata": {},
   "outputs": [],
   "source": [
    "mock_p0_nn = mock_p0 + 1./0.0003\n",
    "dv = np.column_stack(( mock_p0_nn, mock_p2, mock_p4))\n",
    "dv_xi = np.column_stack(( mock_x0_cut, mock_x2_cut, mock_x4_cut))\n",
    "dvc = np.hstack(( dv, dv_xi ))"
   ]
  },
  {
   "cell_type": "code",
   "execution_count": 11,
   "metadata": {},
   "outputs": [
    {
     "data": {
      "text/plain": [
       "0"
      ]
     },
     "execution_count": 11,
     "metadata": {},
     "output_type": "execute_result"
    }
   ],
   "source": [
    "savedir = mockdir + '/all_rSatpathy/'\n",
    "os.system('mkdir '+savedir)"
   ]
  },
  {
   "cell_type": "code",
   "execution_count": 12,
   "metadata": {},
   "outputs": [
    {
     "name": "stdout",
     "output_type": "stream",
     "text": [
      "../data_txt/mocks_multipole/kbin200_r100_fineFourier//all_rSatpathy/mock_pxi_no1000.txt\n"
     ]
    }
   ],
   "source": [
    "#savedir = '../data_txt/mocks_multipole/kbin500/all/'\n",
    "#fig, ax = plt.subplots()\n",
    "for i in range(1, 1001):\n",
    "    #mox = dv_xi[i-1]\n",
    "    moc = dvc[i-1]\n",
    "    #ax.loglog(kcenter, moc[:kcenter.size])\n",
    "    filename = savedir+'mock_pxi_no{:04d}.txt'.format(i)\n",
    "    np.savetxt(filename, moc, delimiter='\\n')\n",
    "np.savetxt(savedir+'r.txt', r_cut, delimiter='\\n')\n",
    "np.savetxt(savedir+'k.txt', kcenter, delimiter='\\n')\n",
    "\n",
    "print filename "
   ]
  },
  {
   "cell_type": "code",
   "execution_count": 29,
   "metadata": {},
   "outputs": [],
   "source": [
    "#datav = np.genfromtxt('../output_Grieb_Sanchez_mocktest_k200_r100_fineFourier/chain/datavector.txt')"
   ]
  },
  {
   "cell_type": "code",
   "execution_count": 13,
   "metadata": {},
   "outputs": [],
   "source": [
    "datav = np.genfromtxt('../output_Grieb_Satpathy_mocktest_k200_r100_fineFourier/chain/datavector.txt')"
   ]
  },
  {
   "cell_type": "code",
   "execution_count": null,
   "metadata": {},
   "outputs": [],
   "source": []
  }
 ],
 "metadata": {
  "kernelspec": {
   "display_name": "Python 2",
   "language": "python",
   "name": "python2"
  },
  "language_info": {
   "codemirror_mode": {
    "name": "ipython",
    "version": 2
   },
   "file_extension": ".py",
   "mimetype": "text/x-python",
   "name": "python",
   "nbconvert_exporter": "python",
   "pygments_lexer": "ipython2",
   "version": "2.7.5"
  }
 },
 "nbformat": 4,
 "nbformat_minor": 2
}
